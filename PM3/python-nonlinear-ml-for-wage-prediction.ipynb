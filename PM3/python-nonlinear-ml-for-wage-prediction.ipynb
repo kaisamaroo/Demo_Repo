{
  "cells": [
    {
      "cell_type": "markdown",
      "metadata": {
        "id": "fFIsBLlF7YFv"
      },
      "source": [
        "# Machine Learning Estimators for Wage Prediction"
      ]
    },
    {
      "cell_type": "markdown",
      "metadata": {
        "id": "ssGRQl-d7U9O"
      },
      "source": [
        "We illustrate how to predict an outcome variable $Y$ in a high-dimensional setting, where the number of covariates $p$ is large in relation to the sample size $n$. So far we have used linear prediction rules, e.g. Lasso regression, for estimation.\n",
        "Now, we also consider nonlinear prediction rules including tree-based methods."
      ]
    },
    {
      "cell_type": "markdown",
      "metadata": {
        "id": "yYmcd6mN7VCV"
      },
      "source": [
        "## Data"
      ]
    },
    {
      "cell_type": "markdown",
      "metadata": {
        "id": "1n1-LWsu53N6"
      },
      "source": [
        "Again, we consider data from the U.S. March Supplement of the Current Population Survey (CPS) in 2015.\n",
        "The preproccessed sample consists of $5150$ never-married individuals."
      ]
    },
    {
      "cell_type": "markdown",
      "metadata": {
        "id": "1or5aUNr7yTv"
      },
      "source": [
        "Set the following file_directory to a place where you downloaded https://raw.githubusercontent.com/CausalAIBook/MetricsMLNotebooks/main/data/wage2015_subsample_inference.csv"
      ]
    },
    {
      "cell_type": "code",
      "execution_count": 1,
      "metadata": {
        "id": "57TFoHNk8BIg"
      },
      "outputs": [],
      "source": [
        "# Import relevant packages\n",
        "import pandas as pd\n",
        "import numpy as np\n",
        "import matplotlib.pyplot as plt\n",
        "from sklearn.model_selection import train_test_split\n",
        "from sklearn.model_selection import KFold\n",
        "from sklearn.pipeline import make_pipeline\n",
        "from sklearn.linear_model import LassoCV, RidgeCV, ElasticNetCV, LinearRegression\n",
        "from sklearn.preprocessing import StandardScaler\n",
        "import patsy\n",
        "import warnings\n",
        "from sklearn.base import BaseEstimator\n",
        "warnings.simplefilter('ignore')\n",
        "np.random.seed(1234)"
      ]
    },
    {
      "cell_type": "code",
      "execution_count": 2,
      "metadata": {
        "id": "5tu2dsStXzED"
      },
      "outputs": [],
      "source": [
        "file = \"https://raw.githubusercontent.com/CausalAIBook/MetricsMLNotebooks/main/data/wage2015_subsample_inference.csv\"\n",
        "data = pd.read_csv(file)"
      ]
    },
    {
      "cell_type": "code",
      "execution_count": 3,
      "metadata": {
        "id": "i9zfg2VVXzEE",
        "outputId": "d718bed6-8c45-4e01-f02d-268fe546fa62",
        "colab": {
          "base_uri": "https://localhost:8080/",
          "height": 320
        }
      },
      "outputs": [
        {
          "output_type": "execute_result",
          "data": {
            "text/plain": [
              "              wage        lwage          sex  ...         occ2            ind         ind2\n",
              "count  5150.000000  5150.000000  5150.000000  ...  5150.000000    5150.000000  5150.000000\n",
              "mean     23.410410     2.970787     0.444466  ...    11.670874    6629.154951    13.316893\n",
              "std      21.003016     0.570385     0.496955  ...     6.966684    5333.443992     5.701019\n",
              "min       3.021978     1.105912     0.000000  ...     1.000000     370.000000     2.000000\n",
              "25%      13.461538     2.599837     0.000000  ...     5.000000    4880.000000     9.000000\n",
              "50%      19.230769     2.956512     0.000000  ...    13.000000    7370.000000    14.000000\n",
              "75%      27.777778     3.324236     1.000000  ...    17.000000    8190.000000    18.000000\n",
              "max     528.845673     6.270697     1.000000  ...    22.000000  100000.000000    22.000000\n",
              "\n",
              "[8 rows x 20 columns]"
            ],
            "text/html": [
              "\n",
              "  <div id=\"df-24623dc3-4dc9-49f7-950d-c6016935ec13\" class=\"colab-df-container\">\n",
              "    <div>\n",
              "<style scoped>\n",
              "    .dataframe tbody tr th:only-of-type {\n",
              "        vertical-align: middle;\n",
              "    }\n",
              "\n",
              "    .dataframe tbody tr th {\n",
              "        vertical-align: top;\n",
              "    }\n",
              "\n",
              "    .dataframe thead th {\n",
              "        text-align: right;\n",
              "    }\n",
              "</style>\n",
              "<table border=\"1\" class=\"dataframe\">\n",
              "  <thead>\n",
              "    <tr style=\"text-align: right;\">\n",
              "      <th></th>\n",
              "      <th>wage</th>\n",
              "      <th>lwage</th>\n",
              "      <th>sex</th>\n",
              "      <th>shs</th>\n",
              "      <th>hsg</th>\n",
              "      <th>scl</th>\n",
              "      <th>clg</th>\n",
              "      <th>ad</th>\n",
              "      <th>mw</th>\n",
              "      <th>so</th>\n",
              "      <th>we</th>\n",
              "      <th>ne</th>\n",
              "      <th>exp1</th>\n",
              "      <th>exp2</th>\n",
              "      <th>exp3</th>\n",
              "      <th>exp4</th>\n",
              "      <th>occ</th>\n",
              "      <th>occ2</th>\n",
              "      <th>ind</th>\n",
              "      <th>ind2</th>\n",
              "    </tr>\n",
              "  </thead>\n",
              "  <tbody>\n",
              "    <tr>\n",
              "      <th>count</th>\n",
              "      <td>5150.000000</td>\n",
              "      <td>5150.000000</td>\n",
              "      <td>5150.000000</td>\n",
              "      <td>5150.000000</td>\n",
              "      <td>5150.000000</td>\n",
              "      <td>5150.000000</td>\n",
              "      <td>5150.000000</td>\n",
              "      <td>5150.000000</td>\n",
              "      <td>5150.000000</td>\n",
              "      <td>5150.000000</td>\n",
              "      <td>5150.000000</td>\n",
              "      <td>5150.000000</td>\n",
              "      <td>5150.000000</td>\n",
              "      <td>5150.000000</td>\n",
              "      <td>5150.000000</td>\n",
              "      <td>5150.000000</td>\n",
              "      <td>5150.000000</td>\n",
              "      <td>5150.000000</td>\n",
              "      <td>5150.000000</td>\n",
              "      <td>5150.000000</td>\n",
              "    </tr>\n",
              "    <tr>\n",
              "      <th>mean</th>\n",
              "      <td>23.410410</td>\n",
              "      <td>2.970787</td>\n",
              "      <td>0.444466</td>\n",
              "      <td>0.023301</td>\n",
              "      <td>0.243883</td>\n",
              "      <td>0.278058</td>\n",
              "      <td>0.317670</td>\n",
              "      <td>0.137087</td>\n",
              "      <td>0.259612</td>\n",
              "      <td>0.296505</td>\n",
              "      <td>0.216117</td>\n",
              "      <td>0.227767</td>\n",
              "      <td>13.760583</td>\n",
              "      <td>3.018925</td>\n",
              "      <td>8.235867</td>\n",
              "      <td>25.118038</td>\n",
              "      <td>5310.737476</td>\n",
              "      <td>11.670874</td>\n",
              "      <td>6629.154951</td>\n",
              "      <td>13.316893</td>\n",
              "    </tr>\n",
              "    <tr>\n",
              "      <th>std</th>\n",
              "      <td>21.003016</td>\n",
              "      <td>0.570385</td>\n",
              "      <td>0.496955</td>\n",
              "      <td>0.150872</td>\n",
              "      <td>0.429465</td>\n",
              "      <td>0.448086</td>\n",
              "      <td>0.465616</td>\n",
              "      <td>0.343973</td>\n",
              "      <td>0.438464</td>\n",
              "      <td>0.456761</td>\n",
              "      <td>0.411635</td>\n",
              "      <td>0.419432</td>\n",
              "      <td>10.609465</td>\n",
              "      <td>4.000904</td>\n",
              "      <td>14.488962</td>\n",
              "      <td>53.530225</td>\n",
              "      <td>11874.356080</td>\n",
              "      <td>6.966684</td>\n",
              "      <td>5333.443992</td>\n",
              "      <td>5.701019</td>\n",
              "    </tr>\n",
              "    <tr>\n",
              "      <th>min</th>\n",
              "      <td>3.021978</td>\n",
              "      <td>1.105912</td>\n",
              "      <td>0.000000</td>\n",
              "      <td>0.000000</td>\n",
              "      <td>0.000000</td>\n",
              "      <td>0.000000</td>\n",
              "      <td>0.000000</td>\n",
              "      <td>0.000000</td>\n",
              "      <td>0.000000</td>\n",
              "      <td>0.000000</td>\n",
              "      <td>0.000000</td>\n",
              "      <td>0.000000</td>\n",
              "      <td>0.000000</td>\n",
              "      <td>0.000000</td>\n",
              "      <td>0.000000</td>\n",
              "      <td>0.000000</td>\n",
              "      <td>10.000000</td>\n",
              "      <td>1.000000</td>\n",
              "      <td>370.000000</td>\n",
              "      <td>2.000000</td>\n",
              "    </tr>\n",
              "    <tr>\n",
              "      <th>25%</th>\n",
              "      <td>13.461538</td>\n",
              "      <td>2.599837</td>\n",
              "      <td>0.000000</td>\n",
              "      <td>0.000000</td>\n",
              "      <td>0.000000</td>\n",
              "      <td>0.000000</td>\n",
              "      <td>0.000000</td>\n",
              "      <td>0.000000</td>\n",
              "      <td>0.000000</td>\n",
              "      <td>0.000000</td>\n",
              "      <td>0.000000</td>\n",
              "      <td>0.000000</td>\n",
              "      <td>5.000000</td>\n",
              "      <td>0.250000</td>\n",
              "      <td>0.125000</td>\n",
              "      <td>0.062500</td>\n",
              "      <td>1740.000000</td>\n",
              "      <td>5.000000</td>\n",
              "      <td>4880.000000</td>\n",
              "      <td>9.000000</td>\n",
              "    </tr>\n",
              "    <tr>\n",
              "      <th>50%</th>\n",
              "      <td>19.230769</td>\n",
              "      <td>2.956512</td>\n",
              "      <td>0.000000</td>\n",
              "      <td>0.000000</td>\n",
              "      <td>0.000000</td>\n",
              "      <td>0.000000</td>\n",
              "      <td>0.000000</td>\n",
              "      <td>0.000000</td>\n",
              "      <td>0.000000</td>\n",
              "      <td>0.000000</td>\n",
              "      <td>0.000000</td>\n",
              "      <td>0.000000</td>\n",
              "      <td>10.000000</td>\n",
              "      <td>1.000000</td>\n",
              "      <td>1.000000</td>\n",
              "      <td>1.000000</td>\n",
              "      <td>4040.000000</td>\n",
              "      <td>13.000000</td>\n",
              "      <td>7370.000000</td>\n",
              "      <td>14.000000</td>\n",
              "    </tr>\n",
              "    <tr>\n",
              "      <th>75%</th>\n",
              "      <td>27.777778</td>\n",
              "      <td>3.324236</td>\n",
              "      <td>1.000000</td>\n",
              "      <td>0.000000</td>\n",
              "      <td>0.000000</td>\n",
              "      <td>1.000000</td>\n",
              "      <td>1.000000</td>\n",
              "      <td>0.000000</td>\n",
              "      <td>1.000000</td>\n",
              "      <td>1.000000</td>\n",
              "      <td>0.000000</td>\n",
              "      <td>0.000000</td>\n",
              "      <td>21.000000</td>\n",
              "      <td>4.410000</td>\n",
              "      <td>9.261000</td>\n",
              "      <td>19.448100</td>\n",
              "      <td>5610.000000</td>\n",
              "      <td>17.000000</td>\n",
              "      <td>8190.000000</td>\n",
              "      <td>18.000000</td>\n",
              "    </tr>\n",
              "    <tr>\n",
              "      <th>max</th>\n",
              "      <td>528.845673</td>\n",
              "      <td>6.270697</td>\n",
              "      <td>1.000000</td>\n",
              "      <td>1.000000</td>\n",
              "      <td>1.000000</td>\n",
              "      <td>1.000000</td>\n",
              "      <td>1.000000</td>\n",
              "      <td>1.000000</td>\n",
              "      <td>1.000000</td>\n",
              "      <td>1.000000</td>\n",
              "      <td>1.000000</td>\n",
              "      <td>1.000000</td>\n",
              "      <td>47.000000</td>\n",
              "      <td>22.090000</td>\n",
              "      <td>103.823000</td>\n",
              "      <td>487.968100</td>\n",
              "      <td>100000.000000</td>\n",
              "      <td>22.000000</td>\n",
              "      <td>100000.000000</td>\n",
              "      <td>22.000000</td>\n",
              "    </tr>\n",
              "  </tbody>\n",
              "</table>\n",
              "</div>\n",
              "    <div class=\"colab-df-buttons\">\n",
              "\n",
              "  <div class=\"colab-df-container\">\n",
              "    <button class=\"colab-df-convert\" onclick=\"convertToInteractive('df-24623dc3-4dc9-49f7-950d-c6016935ec13')\"\n",
              "            title=\"Convert this dataframe to an interactive table.\"\n",
              "            style=\"display:none;\">\n",
              "\n",
              "  <svg xmlns=\"http://www.w3.org/2000/svg\" height=\"24px\" viewBox=\"0 -960 960 960\">\n",
              "    <path d=\"M120-120v-720h720v720H120Zm60-500h600v-160H180v160Zm220 220h160v-160H400v160Zm0 220h160v-160H400v160ZM180-400h160v-160H180v160Zm440 0h160v-160H620v160ZM180-180h160v-160H180v160Zm440 0h160v-160H620v160Z\"/>\n",
              "  </svg>\n",
              "    </button>\n",
              "\n",
              "  <style>\n",
              "    .colab-df-container {\n",
              "      display:flex;\n",
              "      gap: 12px;\n",
              "    }\n",
              "\n",
              "    .colab-df-convert {\n",
              "      background-color: #E8F0FE;\n",
              "      border: none;\n",
              "      border-radius: 50%;\n",
              "      cursor: pointer;\n",
              "      display: none;\n",
              "      fill: #1967D2;\n",
              "      height: 32px;\n",
              "      padding: 0 0 0 0;\n",
              "      width: 32px;\n",
              "    }\n",
              "\n",
              "    .colab-df-convert:hover {\n",
              "      background-color: #E2EBFA;\n",
              "      box-shadow: 0px 1px 2px rgba(60, 64, 67, 0.3), 0px 1px 3px 1px rgba(60, 64, 67, 0.15);\n",
              "      fill: #174EA6;\n",
              "    }\n",
              "\n",
              "    .colab-df-buttons div {\n",
              "      margin-bottom: 4px;\n",
              "    }\n",
              "\n",
              "    [theme=dark] .colab-df-convert {\n",
              "      background-color: #3B4455;\n",
              "      fill: #D2E3FC;\n",
              "    }\n",
              "\n",
              "    [theme=dark] .colab-df-convert:hover {\n",
              "      background-color: #434B5C;\n",
              "      box-shadow: 0px 1px 3px 1px rgba(0, 0, 0, 0.15);\n",
              "      filter: drop-shadow(0px 1px 2px rgba(0, 0, 0, 0.3));\n",
              "      fill: #FFFFFF;\n",
              "    }\n",
              "  </style>\n",
              "\n",
              "    <script>\n",
              "      const buttonEl =\n",
              "        document.querySelector('#df-24623dc3-4dc9-49f7-950d-c6016935ec13 button.colab-df-convert');\n",
              "      buttonEl.style.display =\n",
              "        google.colab.kernel.accessAllowed ? 'block' : 'none';\n",
              "\n",
              "      async function convertToInteractive(key) {\n",
              "        const element = document.querySelector('#df-24623dc3-4dc9-49f7-950d-c6016935ec13');\n",
              "        const dataTable =\n",
              "          await google.colab.kernel.invokeFunction('convertToInteractive',\n",
              "                                                    [key], {});\n",
              "        if (!dataTable) return;\n",
              "\n",
              "        const docLinkHtml = 'Like what you see? Visit the ' +\n",
              "          '<a target=\"_blank\" href=https://colab.research.google.com/notebooks/data_table.ipynb>data table notebook</a>'\n",
              "          + ' to learn more about interactive tables.';\n",
              "        element.innerHTML = '';\n",
              "        dataTable['output_type'] = 'display_data';\n",
              "        await google.colab.output.renderOutput(dataTable, element);\n",
              "        const docLink = document.createElement('div');\n",
              "        docLink.innerHTML = docLinkHtml;\n",
              "        element.appendChild(docLink);\n",
              "      }\n",
              "    </script>\n",
              "  </div>\n",
              "\n",
              "\n",
              "<div id=\"df-54857a73-b947-4fbd-9224-87b9af5d46b7\">\n",
              "  <button class=\"colab-df-quickchart\" onclick=\"quickchart('df-54857a73-b947-4fbd-9224-87b9af5d46b7')\"\n",
              "            title=\"Suggest charts\"\n",
              "            style=\"display:none;\">\n",
              "\n",
              "<svg xmlns=\"http://www.w3.org/2000/svg\" height=\"24px\"viewBox=\"0 0 24 24\"\n",
              "     width=\"24px\">\n",
              "    <g>\n",
              "        <path d=\"M19 3H5c-1.1 0-2 .9-2 2v14c0 1.1.9 2 2 2h14c1.1 0 2-.9 2-2V5c0-1.1-.9-2-2-2zM9 17H7v-7h2v7zm4 0h-2V7h2v10zm4 0h-2v-4h2v4z\"/>\n",
              "    </g>\n",
              "</svg>\n",
              "  </button>\n",
              "\n",
              "<style>\n",
              "  .colab-df-quickchart {\n",
              "      --bg-color: #E8F0FE;\n",
              "      --fill-color: #1967D2;\n",
              "      --hover-bg-color: #E2EBFA;\n",
              "      --hover-fill-color: #174EA6;\n",
              "      --disabled-fill-color: #AAA;\n",
              "      --disabled-bg-color: #DDD;\n",
              "  }\n",
              "\n",
              "  [theme=dark] .colab-df-quickchart {\n",
              "      --bg-color: #3B4455;\n",
              "      --fill-color: #D2E3FC;\n",
              "      --hover-bg-color: #434B5C;\n",
              "      --hover-fill-color: #FFFFFF;\n",
              "      --disabled-bg-color: #3B4455;\n",
              "      --disabled-fill-color: #666;\n",
              "  }\n",
              "\n",
              "  .colab-df-quickchart {\n",
              "    background-color: var(--bg-color);\n",
              "    border: none;\n",
              "    border-radius: 50%;\n",
              "    cursor: pointer;\n",
              "    display: none;\n",
              "    fill: var(--fill-color);\n",
              "    height: 32px;\n",
              "    padding: 0;\n",
              "    width: 32px;\n",
              "  }\n",
              "\n",
              "  .colab-df-quickchart:hover {\n",
              "    background-color: var(--hover-bg-color);\n",
              "    box-shadow: 0 1px 2px rgba(60, 64, 67, 0.3), 0 1px 3px 1px rgba(60, 64, 67, 0.15);\n",
              "    fill: var(--button-hover-fill-color);\n",
              "  }\n",
              "\n",
              "  .colab-df-quickchart-complete:disabled,\n",
              "  .colab-df-quickchart-complete:disabled:hover {\n",
              "    background-color: var(--disabled-bg-color);\n",
              "    fill: var(--disabled-fill-color);\n",
              "    box-shadow: none;\n",
              "  }\n",
              "\n",
              "  .colab-df-spinner {\n",
              "    border: 2px solid var(--fill-color);\n",
              "    border-color: transparent;\n",
              "    border-bottom-color: var(--fill-color);\n",
              "    animation:\n",
              "      spin 1s steps(1) infinite;\n",
              "  }\n",
              "\n",
              "  @keyframes spin {\n",
              "    0% {\n",
              "      border-color: transparent;\n",
              "      border-bottom-color: var(--fill-color);\n",
              "      border-left-color: var(--fill-color);\n",
              "    }\n",
              "    20% {\n",
              "      border-color: transparent;\n",
              "      border-left-color: var(--fill-color);\n",
              "      border-top-color: var(--fill-color);\n",
              "    }\n",
              "    30% {\n",
              "      border-color: transparent;\n",
              "      border-left-color: var(--fill-color);\n",
              "      border-top-color: var(--fill-color);\n",
              "      border-right-color: var(--fill-color);\n",
              "    }\n",
              "    40% {\n",
              "      border-color: transparent;\n",
              "      border-right-color: var(--fill-color);\n",
              "      border-top-color: var(--fill-color);\n",
              "    }\n",
              "    60% {\n",
              "      border-color: transparent;\n",
              "      border-right-color: var(--fill-color);\n",
              "    }\n",
              "    80% {\n",
              "      border-color: transparent;\n",
              "      border-right-color: var(--fill-color);\n",
              "      border-bottom-color: var(--fill-color);\n",
              "    }\n",
              "    90% {\n",
              "      border-color: transparent;\n",
              "      border-bottom-color: var(--fill-color);\n",
              "    }\n",
              "  }\n",
              "</style>\n",
              "\n",
              "  <script>\n",
              "    async function quickchart(key) {\n",
              "      const quickchartButtonEl =\n",
              "        document.querySelector('#' + key + ' button');\n",
              "      quickchartButtonEl.disabled = true;  // To prevent multiple clicks.\n",
              "      quickchartButtonEl.classList.add('colab-df-spinner');\n",
              "      try {\n",
              "        const charts = await google.colab.kernel.invokeFunction(\n",
              "            'suggestCharts', [key], {});\n",
              "      } catch (error) {\n",
              "        console.error('Error during call to suggestCharts:', error);\n",
              "      }\n",
              "      quickchartButtonEl.classList.remove('colab-df-spinner');\n",
              "      quickchartButtonEl.classList.add('colab-df-quickchart-complete');\n",
              "    }\n",
              "    (() => {\n",
              "      let quickchartButtonEl =\n",
              "        document.querySelector('#df-54857a73-b947-4fbd-9224-87b9af5d46b7 button');\n",
              "      quickchartButtonEl.style.display =\n",
              "        google.colab.kernel.accessAllowed ? 'block' : 'none';\n",
              "    })();\n",
              "  </script>\n",
              "</div>\n",
              "\n",
              "    </div>\n",
              "  </div>\n"
            ],
            "application/vnd.google.colaboratory.intrinsic+json": {
              "type": "dataframe",
              "summary": "{\n  \"name\": \"data\",\n  \"rows\": 8,\n  \"fields\": [\n    {\n      \"column\": \"wage\",\n      \"properties\": {\n        \"dtype\": \"number\",\n        \"std\": 1797.5653203033053,\n        \"min\": 3.02197802197802,\n        \"max\": 5150.0,\n        \"num_unique_values\": 8,\n        \"samples\": [\n          23.410410037881213,\n          19.2307692307692,\n          5150.0\n        ],\n        \"semantic_type\": \"\",\n        \"description\": \"\"\n      }\n    },\n    {\n      \"column\": \"lwage\",\n      \"properties\": {\n        \"dtype\": \"number\",\n        \"std\": 1819.8007879738893,\n        \"min\": 0.570384782992647,\n        \"max\": 5150.0,\n        \"num_unique_values\": 8,\n        \"samples\": [\n          2.9707867022915577,\n          2.95651156040071,\n          5150.0\n        ],\n        \"semantic_type\": \"\",\n        \"description\": \"\"\n      }\n    },\n    {\n      \"column\": \"sex\",\n      \"properties\": {\n        \"dtype\": \"number\",\n        \"std\": 1820.6514447894967,\n        \"min\": 0.0,\n        \"max\": 5150.0,\n        \"num_unique_values\": 5,\n        \"samples\": [\n          0.4444660194174757,\n          1.0,\n          0.4969546570483461\n        ],\n        \"semantic_type\": \"\",\n        \"description\": \"\"\n      }\n    },\n    {\n      \"column\": \"shs\",\n      \"properties\": {\n        \"dtype\": \"number\",\n        \"std\": 1820.7406892668737,\n        \"min\": 0.0,\n        \"max\": 5150.0,\n        \"num_unique_values\": 5,\n        \"samples\": [\n          0.02330097087378641,\n          1.0,\n          0.15087231530138343\n        ],\n        \"semantic_type\": \"\",\n        \"description\": \"\"\n      }\n    },\n    {\n      \"column\": \"hsg\",\n      \"properties\": {\n        \"dtype\": \"number\",\n        \"std\": 1820.7154778028057,\n        \"min\": 0.0,\n        \"max\": 5150.0,\n        \"num_unique_values\": 5,\n        \"samples\": [\n          0.24388349514563107,\n          1.0,\n          0.4294649573160244\n        ],\n        \"semantic_type\": \"\",\n        \"description\": \"\"\n      }\n    },\n    {\n      \"column\": \"scl\",\n      \"properties\": {\n        \"dtype\": \"number\",\n        \"std\": 1820.662318212018,\n        \"min\": 0.0,\n        \"max\": 5150.0,\n        \"num_unique_values\": 5,\n        \"samples\": [\n          0.27805825242718446,\n          1.0,\n          0.4480857588192388\n        ],\n        \"semantic_type\": \"\",\n        \"description\": \"\"\n      }\n    },\n    {\n      \"column\": \"clg\",\n      \"properties\": {\n        \"dtype\": \"number\",\n        \"std\": 1820.6594319236465,\n        \"min\": 0.0,\n        \"max\": 5150.0,\n        \"num_unique_values\": 5,\n        \"samples\": [\n          0.31766990291262137,\n          1.0,\n          0.46561554136710726\n        ],\n        \"semantic_type\": \"\",\n        \"description\": \"\"\n      }\n    },\n    {\n      \"column\": \"ad\",\n      \"properties\": {\n        \"dtype\": \"number\",\n        \"std\": 1820.7251890277164,\n        \"min\": 0.0,\n        \"max\": 5150.0,\n        \"num_unique_values\": 5,\n        \"samples\": [\n          0.1370873786407767,\n          1.0,\n          0.3439729691578766\n        ],\n        \"semantic_type\": \"\",\n        \"description\": \"\"\n      }\n    },\n    {\n      \"column\": \"mw\",\n      \"properties\": {\n        \"dtype\": \"number\",\n        \"std\": 1820.6637360024881,\n        \"min\": 0.0,\n        \"max\": 5150.0,\n        \"num_unique_values\": 5,\n        \"samples\": [\n          0.2596116504854369,\n          1.0,\n          0.4384641053319788\n        ],\n        \"semantic_type\": \"\",\n        \"description\": \"\"\n      }\n    },\n    {\n      \"column\": \"so\",\n      \"properties\": {\n        \"dtype\": \"number\",\n        \"std\": 1820.660948263692,\n        \"min\": 0.0,\n        \"max\": 5150.0,\n        \"num_unique_values\": 5,\n        \"samples\": [\n          0.29650485436893204,\n          1.0,\n          0.4567605898390248\n        ],\n        \"semantic_type\": \"\",\n        \"description\": \"\"\n      }\n    },\n    {\n      \"column\": \"we\",\n      \"properties\": {\n        \"dtype\": \"number\",\n        \"std\": 1820.7177805695885,\n        \"min\": 0.0,\n        \"max\": 5150.0,\n        \"num_unique_values\": 5,\n        \"samples\": [\n          0.21611650485436892,\n          1.0,\n          0.4116346228750542\n        ],\n        \"semantic_type\": \"\",\n        \"description\": \"\"\n      }\n    },\n    {\n      \"column\": \"ne\",\n      \"properties\": {\n        \"dtype\": \"number\",\n        \"std\": 1820.7167983955987,\n        \"min\": 0.0,\n        \"max\": 5150.0,\n        \"num_unique_values\": 5,\n        \"samples\": [\n          0.22776699029126213,\n          1.0,\n          0.41943217365669044\n        ],\n        \"semantic_type\": \"\",\n        \"description\": \"\"\n      }\n    },\n    {\n      \"column\": \"exp1\",\n      \"properties\": {\n        \"dtype\": \"number\",\n        \"std\": 1815.4332201275033,\n        \"min\": 0.0,\n        \"max\": 5150.0,\n        \"num_unique_values\": 8,\n        \"samples\": [\n          13.760582524271845,\n          10.0,\n          5150.0\n        ],\n        \"semantic_type\": \"\",\n        \"description\": \"\"\n      }\n    },\n    {\n      \"column\": \"exp2\",\n      \"properties\": {\n        \"dtype\": \"number\",\n        \"std\": 1819.057991163466,\n        \"min\": 0.0,\n        \"max\": 5150.0,\n        \"num_unique_values\": 8,\n        \"samples\": [\n          3.0189252427184465,\n          1.0,\n          5150.0\n        ],\n        \"semantic_type\": \"\",\n        \"description\": \"\"\n      }\n    },\n    {\n      \"column\": \"exp3\",\n      \"properties\": {\n        \"dtype\": \"number\",\n        \"std\": 1814.2170720867746,\n        \"min\": 0.0,\n        \"max\": 5150.0,\n        \"num_unique_values\": 8,\n        \"samples\": [\n          8.23586713592233,\n          1.0,\n          5150.0\n        ],\n        \"semantic_type\": \"\",\n        \"description\": \"\"\n      }\n    },\n    {\n      \"column\": \"exp4\",\n      \"properties\": {\n        \"dtype\": \"number\",\n        \"std\": 1798.8154942594686,\n        \"min\": 0.0,\n        \"max\": 5150.0,\n        \"num_unique_values\": 8,\n        \"samples\": [\n          25.118037682038835,\n          1.0,\n          5150.0\n        ],\n        \"semantic_type\": \"\",\n        \"description\": \"\"\n      }\n    },\n    {\n      \"column\": \"occ\",\n      \"properties\": {\n        \"dtype\": \"number\",\n        \"std\": 33829.221854158444,\n        \"min\": 10.0,\n        \"max\": 100000.0,\n        \"num_unique_values\": 8,\n        \"samples\": [\n          5310.737475728155,\n          4040.0,\n          5150.0\n        ],\n        \"semantic_type\": \"\",\n        \"description\": \"\"\n      }\n    },\n    {\n      \"column\": \"occ2\",\n      \"properties\": {\n        \"dtype\": \"number\",\n        \"std\": 1816.9415126732254,\n        \"min\": 1.0,\n        \"max\": 5150.0,\n        \"num_unique_values\": 8,\n        \"samples\": [\n          11.670873786407768,\n          13.0,\n          5150.0\n        ],\n        \"semantic_type\": \"\",\n        \"description\": \"\"\n      }\n    },\n    {\n      \"column\": \"ind\",\n      \"properties\": {\n        \"dtype\": \"number\",\n        \"std\": 33522.75923644105,\n        \"min\": 370.0,\n        \"max\": 100000.0,\n        \"num_unique_values\": 8,\n        \"samples\": [\n          6629.15495145631,\n          7370.0,\n          5150.0\n        ],\n        \"semantic_type\": \"\",\n        \"description\": \"\"\n      }\n    },\n    {\n      \"column\": \"ind2\",\n      \"properties\": {\n        \"dtype\": \"number\",\n        \"std\": 1816.5678353532396,\n        \"min\": 2.0,\n        \"max\": 5150.0,\n        \"num_unique_values\": 8,\n        \"samples\": [\n          13.316893203883495,\n          14.0,\n          5150.0\n        ],\n        \"semantic_type\": \"\",\n        \"description\": \"\"\n      }\n    }\n  ]\n}"
            }
          },
          "metadata": {},
          "execution_count": 3
        }
      ],
      "source": [
        "data.describe()"
      ]
    },
    {
      "cell_type": "code",
      "execution_count": 4,
      "metadata": {
        "id": "fUxf95F1B2EE",
        "outputId": "f4b63932-c910-44d1-c1c5-a01c62b8066c",
        "colab": {
          "base_uri": "https://localhost:8080/"
        }
      },
      "outputs": [
        {
          "output_type": "execute_result",
          "data": {
            "text/plain": [
              "Index(['sex', 'shs', 'hsg', 'scl', 'clg', 'ad', 'mw', 'so', 'we', 'ne', 'exp1',\n",
              "       'exp2', 'exp3', 'exp4', 'occ', 'occ2', 'ind', 'ind2'],\n",
              "      dtype='object')"
            ]
          },
          "metadata": {},
          "execution_count": 4
        }
      ],
      "source": [
        "y = np.log(data['wage']).values # Response variable\n",
        "Z = data.drop(['wage', 'lwage'], axis=1) # Covariates\n",
        "Z.columns"
      ]
    },
    {
      "cell_type": "markdown",
      "metadata": {
        "id": "v2E-oxA8DQqH"
      },
      "source": [
        "The following figure shows the weekly wage distribution from the US survey data."
      ]
    },
    {
      "cell_type": "code",
      "execution_count": 5,
      "metadata": {
        "id": "4QJc_mnlB2KN",
        "outputId": "30e602e4-30da-4784-e36e-a38d7a169fef",
        "colab": {
          "base_uri": "https://localhost:8080/",
          "height": 489
        }
      },
      "outputs": [
        {
          "output_type": "execute_result",
          "data": {
            "text/plain": [
              "Text(0.5, 1.0, 'Empirical wage distribution from the US survey data')"
            ]
          },
          "metadata": {},
          "execution_count": 5
        },
        {
          "output_type": "display_data",
          "data": {
            "text/plain": [
              "<Figure size 640x480 with 1 Axes>"
            ],
            "image/png": "[encoded data removed]"
          },
          "metadata": {}
        }
      ],
      "source": [
        "plt.hist(data.wage)\n",
        "plt.xlabel('hourly wage')\n",
        "plt.ylabel('Frequency')\n",
        "plt.title('Empirical wage distribution from the US survey data')"
      ]
    },
    {
      "cell_type": "code",
      "source": [
        "plt.hist(np.log(data.wage))\n",
        "plt.xlabel('log hourly wage')\n",
        "plt.ylabel('Frequency')\n",
        "plt.title('Empirical log wage distribution from the US survey data')"
      ],
      "metadata": {
        "id": "VeIOjnp-HxiZ",
        "outputId": "e7bb52df-c3b5-40e4-edb5-cb7532cdf14e",
        "colab": {
          "base_uri": "https://localhost:8080/",
          "height": 489
        }
      },
      "execution_count": 6,
      "outputs": [
        {
          "output_type": "execute_result",
          "data": {
            "text/plain": [
              "Text(0.5, 1.0, 'Empirical log wage distribution from the US survey data')"
            ]
          },
          "metadata": {},
          "execution_count": 6
        },
        {
          "output_type": "display_data",
          "data": {
            "text/plain": [
              "<Figure size 640x480 with 1 Axes>"
            ],
            "image/png": "[encoded data removed]"
          },
          "metadata": {}
        }
      ]
    },
    {
      "cell_type": "markdown",
      "metadata": {
        "id": "TvMhq0RNDL43"
      },
      "source": [
        "Wages show a high degree of skewness. Hence, wages are transformed in almost all studies by\n",
        "the logarithm."
      ]
    },
    {
      "cell_type": "markdown",
      "metadata": {
        "id": "xBL1FmvgDV3f"
      },
      "source": [
        "## Analysis"
      ]
    },
    {
      "cell_type": "markdown",
      "metadata": {
        "id": "nDbY6BAuDYVD"
      },
      "source": [
        "Due to the skewness of the data, we are considering log wages which leads to the following regression model\n",
        "\n",
        "$$\\log(\\operatorname{wage}) = g(Z) + \\epsilon.$$"
      ]
    },
    {
      "cell_type": "markdown",
      "metadata": {
        "id": "jNACoPwVDdpK"
      },
      "source": [
        "We will estimate the two sets of prediction rules: Linear and Nonlinear Models.\n",
        "In linear models, we estimate the prediction rule of the form\n",
        "\n",
        "$$\\hat g(Z) = \\hat \\beta'X.$$\n",
        "Again, we generate $X$ in two ways:\n",
        "\n",
        "1. Basic Model:   $X$ consists of a set of raw regressors (e.g. gender, experience, education indicators, regional indicators).\n",
        "\n",
        "\n",
        "2. Flexible Model:  $X$ consists of all raw regressors from the basic model plus occupation and industry indicators, transformations (e.g., $\\operatorname{exp}^2$ and $\\operatorname{exp}^3$) and additional two-way interactions."
      ]
    },
    {
      "cell_type": "markdown",
      "metadata": {
        "id": "iDM3apFhDlgf"
      },
      "source": [
        "To evaluate the out-of-sample performance, we split the data first and we use the following helper function to calculate evaluation metrics."
      ]
    },
    {
      "cell_type": "code",
      "execution_count": 7,
      "metadata": {
        "id": "LQAKKE4iXzEF"
      },
      "outputs": [],
      "source": [
        "train_idx, test_idx = train_test_split(np.arange(len(y)), test_size=0.25, random_state=123)\n",
        "y_train, y_test = y[train_idx], y[test_idx]"
      ]
    },
    {
      "cell_type": "code",
      "execution_count": 8,
      "metadata": {
        "id": "d8D89aBZXzEF",
        "outputId": "a6be360e-7e7a-4705-9aa0-2cd8a02d469f",
        "colab": {
          "base_uri": "https://localhost:8080/"
        }
      },
      "outputs": [
        {
          "output_type": "stream",
          "name": "stdout",
          "text": [
            "(3862, 51)\n",
            "(1288, 51)\n"
          ]
        }
      ],
      "source": [
        "Zbase = patsy.dmatrix('0 + sex + exp1 + shs + hsg+ scl + clg + mw + so + we + C(occ2) + C(ind2)',\n",
        "                      Z, return_type='dataframe').values\n",
        "X_train, X_test = Zbase[train_idx], Zbase[test_idx]\n",
        "print(X_train.shape)\n",
        "print(X_test.shape)"
      ]
    },
    {
      "cell_type": "code",
      "execution_count": 9,
      "metadata": {
        "id": "Iy9SILlkXzEF",
        "outputId": "8bbac678-4e9e-4737-f70b-990b44deecb2",
        "colab": {
          "base_uri": "https://localhost:8080/"
        }
      },
      "outputs": [
        {
          "output_type": "stream",
          "name": "stdout",
          "text": [
            "(3862, 246)\n",
            "(1288, 246)\n"
          ]
        }
      ],
      "source": [
        "Zflex = patsy.dmatrix('0 + sex + (exp1+exp2+exp3+exp4)*(shs+hsg+scl+clg+C(occ2)+C(ind2)+mw+so+we)',\n",
        "                      Z, return_type='dataframe').values\n",
        "Xflex_train, Xflex_test = Zflex[train_idx], Zflex[test_idx]\n",
        "print(Xflex_train.shape)\n",
        "print(Xflex_test.shape)"
      ]
    },
    {
      "cell_type": "code",
      "execution_count": 10,
      "metadata": {
        "id": "rlMPubjEXzEG"
      },
      "outputs": [],
      "source": [
        "def metrics(X_test, y_test, estimator):\n",
        "    mse = np.mean((y_test - estimator.predict(X_test))**2)\n",
        "    semse = np.std((y_test - estimator.predict(X_test))**2) / np.sqrt(len(y_test))\n",
        "    r2 = 1 - mse / np.var(y_test)\n",
        "    print(f'{mse:.4f}, {semse:.4f}, {r2:.4f}')\n",
        "    return mse, semse, r2\n",
        "\n",
        "\n",
        "results = {}  # dictionary that will store all the metric results from each estimator"
      ]
    },
    {
      "cell_type": "markdown",
      "metadata": {
        "id": "PPt0pZtgOMSn"
      },
      "source": [
        "We are starting by running a simple OLS regression. We fit the basic and flexible model to our training data by running an ols regression and compute the R-squared on the test sample"
      ]
    },
    {
      "cell_type": "markdown",
      "metadata": {
        "id": "whmRF4T5XzEG"
      },
      "source": [
        "### Low dimensional specification"
      ]
    },
    {
      "cell_type": "code",
      "execution_count": 11,
      "metadata": {
        "id": "DcTekwMGXzEG",
        "outputId": "3c3e81fd-b772-4812-9b84-efeabad47b0c",
        "colab": {
          "base_uri": "https://localhost:8080/"
        }
      },
      "outputs": [
        {
          "output_type": "stream",
          "name": "stdout",
          "text": [
            "0.2341, 0.0167, 0.2853\n"
          ]
        }
      ],
      "source": [
        "lr_base = LinearRegression().fit(X_train, y_train)\n",
        "ypred_ols = lr_base.predict(X_test)\n",
        "results['ols'] = metrics(X_test, y_test, lr_base)"
      ]
    },
    {
      "cell_type": "markdown",
      "metadata": {
        "id": "aUyNS3ypXzEG"
      },
      "source": [
        "### High-dimensional specification"
      ]
    },
    {
      "cell_type": "markdown",
      "metadata": {
        "id": "jX09oKqhRJgz"
      },
      "source": [
        "We repeat the same procedure for the flexible model."
      ]
    },
    {
      "cell_type": "code",
      "execution_count": 12,
      "metadata": {
        "id": "PZJ51jTwXzEG",
        "outputId": "a6743b4e-1ebd-442c-ad49-84d8daacb9d3",
        "colab": {
          "base_uri": "https://localhost:8080/"
        }
      },
      "outputs": [
        {
          "output_type": "stream",
          "name": "stdout",
          "text": [
            "0.2495, 0.0170, 0.2384\n"
          ]
        }
      ],
      "source": [
        "lr_flex = LinearRegression().fit(Xflex_train, y_train)\n",
        "ypred_ols_flex = lr_flex.predict(Xflex_test)\n",
        "results['ols_flex'] = metrics(Xflex_test, y_test, lr_flex)"
      ]
    },
    {
      "cell_type": "markdown",
      "metadata": {
        "id": "kP7rK1KhXzEG"
      },
      "source": [
        "### Penalized Regressions"
      ]
    },
    {
      "cell_type": "markdown",
      "metadata": {
        "id": "-4QL8R2OUbT_"
      },
      "source": [
        "We observe that ols regression works better for the basic model with smaller $p/n$ ratio. We are proceeding by running penalized regressions."
      ]
    },
    {
      "cell_type": "markdown",
      "metadata": {
        "id": "Sm9CM8vcXzEG"
      },
      "source": [
        "First we try a pure `l1` penalty, tuned using cross-validation"
      ]
    },
    {
      "cell_type": "code",
      "execution_count": 13,
      "metadata": {
        "id": "Yb3ov7yPXzEH"
      },
      "outputs": [],
      "source": [
        "cv = KFold(n_splits=5, shuffle=True, random_state=123)"
      ]
    },
    {
      "cell_type": "code",
      "execution_count": 14,
      "metadata": {
        "id": "VKtjuvvfXzEH",
        "outputId": "817e6d46-3c99-41c3-b40b-c54f3e0fa9c6",
        "colab": {
          "base_uri": "https://localhost:8080/"
        }
      },
      "outputs": [
        {
          "output_type": "stream",
          "name": "stdout",
          "text": [
            "0.2336, 0.0167, 0.2868\n"
          ]
        }
      ],
      "source": [
        "lcv = make_pipeline(StandardScaler(), LassoCV(cv=cv, random_state=123)).fit(X_train, y_train)\n",
        "ypred_lcv = lcv.predict(X_test)\n",
        "results['lcv'] = metrics(X_test, y_test, lcv)"
      ]
    },
    {
      "cell_type": "code",
      "execution_count": 15,
      "metadata": {
        "id": "g_wjI_W7XzEH",
        "outputId": "cced475c-b6c3-48c7-a8cd-8275d369d731",
        "colab": {
          "base_uri": "https://localhost:8080/"
        }
      },
      "outputs": [
        {
          "output_type": "stream",
          "name": "stdout",
          "text": [
            "0.2333, 0.0166, 0.2880\n"
          ]
        }
      ],
      "source": [
        "lcv_flex = make_pipeline(StandardScaler(), LassoCV(cv=cv, random_state=123)).fit(Xflex_train, y_train)\n",
        "ypred_lcv_flex = lcv_flex.predict(Xflex_test)\n",
        "results['lcv_flex'] = metrics(Xflex_test, y_test, lcv_flex)"
      ]
    },
    {
      "cell_type": "markdown",
      "metadata": {
        "id": "WV4rW976XzEH"
      },
      "source": [
        "Then we try a pure `l2` penalty, tuned using cross-validation"
      ]
    },
    {
      "cell_type": "code",
      "execution_count": 16,
      "metadata": {
        "id": "Ka-hKNo5XzEH",
        "outputId": "0d079f92-e2d5-4333-f889-afdef5681ce7",
        "colab": {
          "base_uri": "https://localhost:8080/"
        }
      },
      "outputs": [
        {
          "output_type": "stream",
          "name": "stdout",
          "text": [
            "0.2339, 0.0167, 0.2860\n"
          ]
        }
      ],
      "source": [
        "rcv = make_pipeline(StandardScaler(), RidgeCV(cv=cv)).fit(X_train, y_train)\n",
        "ypred_rcv = rcv.predict(X_test)\n",
        "results['rcv'] = metrics(X_test, y_test, rcv)"
      ]
    },
    {
      "cell_type": "code",
      "execution_count": 17,
      "metadata": {
        "id": "9QIH9QmPXzEH",
        "outputId": "c6325d5b-319a-43ea-8dae-cb997e7c20c8",
        "colab": {
          "base_uri": "https://localhost:8080/"
        }
      },
      "outputs": [
        {
          "output_type": "stream",
          "name": "stdout",
          "text": [
            "0.2394, 0.0164, 0.2693\n"
          ]
        }
      ],
      "source": [
        "rcv_flex = make_pipeline(StandardScaler(), RidgeCV(cv=cv)).fit(Xflex_train, y_train)\n",
        "ypred_rcv_flex = rcv_flex.predict(Xflex_test)\n",
        "results['rcv_flex'] = metrics(Xflex_test, y_test, rcv_flex)"
      ]
    },
    {
      "cell_type": "markdown",
      "metadata": {
        "id": "gQveEbZPXzEH"
      },
      "source": [
        "Finally, we try an equal combination of the two penalties, with the overall weight tuned using cross validation"
      ]
    },
    {
      "cell_type": "code",
      "execution_count": 18,
      "metadata": {
        "id": "z4C9ppBpXzEH",
        "outputId": "b92173f4-2ff0-496a-f799-941eaec176ff",
        "colab": {
          "base_uri": "https://localhost:8080/"
        }
      },
      "outputs": [
        {
          "output_type": "stream",
          "name": "stdout",
          "text": [
            "0.2339, 0.0167, 0.2860\n"
          ]
        }
      ],
      "source": [
        "ecv = make_pipeline(StandardScaler(), ElasticNetCV(cv=cv, random_state=123)).fit(X_train, y_train)\n",
        "ypred_ecv = ecv.predict(X_test)\n",
        "results['ecv'] = metrics(X_test, y_test, ecv)"
      ]
    },
    {
      "cell_type": "code",
      "execution_count": 19,
      "metadata": {
        "id": "_9rY6AfzXzEH",
        "outputId": "223d1404-e8f8-4e41-afbd-a10b1ccfaf09",
        "colab": {
          "base_uri": "https://localhost:8080/"
        }
      },
      "outputs": [
        {
          "output_type": "stream",
          "name": "stdout",
          "text": [
            "0.2333, 0.0166, 0.2878\n"
          ]
        }
      ],
      "source": [
        "ecv_flex = make_pipeline(StandardScaler(), ElasticNetCV(cv=cv, random_state=123)).fit(Xflex_train, y_train)\n",
        "ypred_ecv_flex = ecv_flex.predict(Xflex_test)\n",
        "results['ecv_flex'] = metrics(Xflex_test, y_test, ecv_flex)"
      ]
    },
    {
      "cell_type": "markdown",
      "metadata": {
        "id": "iv7sJhnOXzEH"
      },
      "source": [
        "We can also try a variant of the `l1` penalty, where the weight is chosen based on theoretical derivations. This is a based on a Python implementation that tries to replicate the main function of hdm r-package. It was made by [Max Huppertz](https://maxhuppertz.github.io/code/). His library is this [repository](https://github.com/maxhuppertz/hdmpy). Download its repository and copy this folder to your site-packages folder. In my case it is located here ***C:\\Python\\Python38\\Lib\\site-packages*** . It requires the multiprocess package ***pip install multiprocess***."
      ]
    },
    {
      "cell_type": "code",
      "execution_count": 20,
      "metadata": {
        "id": "FFgyTMz9YU1w",
        "outputId": "1d90b5db-a9fd-4b87-916c-b6182040688b",
        "colab": {
          "base_uri": "https://localhost:8080/"
        }
      },
      "outputs": [
        {
          "output_type": "stream",
          "name": "stdout",
          "text": [
            "Cloning into 'hdmpy'...\n",
            "remote: Enumerating objects: 70, done.\u001b[K\n",
            "remote: Counting objects: 100% (70/70), done.\u001b[K\n",
            "remote: Compressing objects: 100% (49/49), done.\u001b[K\n",
            "remote: Total 70 (delta 39), reused 52 (delta 21), pack-reused 0 (from 0)\u001b[K\n",
            "Receiving objects: 100% (70/70), 25.30 KiB | 5.06 MiB/s, done.\n",
            "Resolving deltas: 100% (39/39), done.\n",
            "Collecting multiprocess\n",
            "  Downloading multiprocess-0.70.17-py311-none-any.whl.metadata (7.2 kB)\n",
            "Collecting dill>=0.3.9 (from multiprocess)\n",
            "  Downloading dill-0.3.9-py3-none-any.whl.metadata (10 kB)\n",
            "Downloading multiprocess-0.70.17-py311-none-any.whl (144 kB)\n",
            "\u001b[2K   \u001b[90m━━━━━━━━━━━━━━━━━━━━━━━━━━━━━━━━━━━━━━━━\u001b[0m \u001b[32m144.3/144.3 kB\u001b[0m \u001b[31m3.7 MB/s\u001b[0m eta \u001b[36m0:00:00\u001b[0m\n",
            "\u001b[?25hDownloading dill-0.3.9-py3-none-any.whl (119 kB)\n",
            "\u001b[2K   \u001b[90m━━━━━━━━━━━━━━━━━━━━━━━━━━━━━━━━━━━━━━━━\u001b[0m \u001b[32m119.4/119.4 kB\u001b[0m \u001b[31m5.1 MB/s\u001b[0m eta \u001b[36m0:00:00\u001b[0m\n",
            "\u001b[?25hInstalling collected packages: dill, multiprocess\n",
            "Successfully installed dill-0.3.9 multiprocess-0.70.17\n"
          ]
        }
      ],
      "source": [
        "!git clone https://github.com/maxhuppertz/hdmpy.git\n",
        "!pip install multiprocess"
      ]
    },
    {
      "cell_type": "code",
      "execution_count": 21,
      "metadata": {
        "id": "dLOYDwPtXzEL"
      },
      "outputs": [],
      "source": [
        "import hdmpy\n",
        "from sklearn.base import RegressorMixin\n",
        "\n",
        "\n",
        "# We wrap the package so that it has the familiar sklearn API\n",
        "class RLasso(BaseEstimator, RegressorMixin):\n",
        "\n",
        "    def __init__(self, *, post=True):\n",
        "        self.post = post\n",
        "\n",
        "    def fit(self, X, y):\n",
        "        self.rlasso_ = hdmpy.rlasso(X, y, post=self.post)\n",
        "        return self\n",
        "\n",
        "    @property\n",
        "    def coef_(self):\n",
        "        return np.array(self.rlasso_.est['beta']).flatten()\n",
        "\n",
        "    @property\n",
        "    def intercept_(self):\n",
        "        return np.array(self.rlasso_.est['intercept'])\n",
        "\n",
        "    def predict(self, X):\n",
        "        return X @ self.coef_ + self.intercept_"
      ]
    },
    {
      "cell_type": "code",
      "execution_count": 22,
      "metadata": {
        "id": "VUR0R5jkXzEM",
        "outputId": "46bfa22f-332b-4f9d-debe-d631dc2e8902",
        "colab": {
          "base_uri": "https://localhost:8080/"
        }
      },
      "outputs": [
        {
          "output_type": "stream",
          "name": "stdout",
          "text": [
            "0.2397, 0.0168, 0.2683\n"
          ]
        }
      ],
      "source": [
        "lasso = make_pipeline(StandardScaler(), RLasso(post=False)).fit(X_train, y_train)\n",
        "ypred_lasso = lasso.predict(X_test)\n",
        "results['lasso'] = metrics(X_test, y_test, lasso)"
      ]
    },
    {
      "cell_type": "code",
      "execution_count": 23,
      "metadata": {
        "id": "gr5y5MdrXzEM",
        "outputId": "8df33762-a44d-49f4-a6e9-bdb28daddabe",
        "colab": {
          "base_uri": "https://localhost:8080/"
        }
      },
      "outputs": [
        {
          "output_type": "stream",
          "name": "stdout",
          "text": [
            "0.2396, 0.0166, 0.2686\n"
          ]
        }
      ],
      "source": [
        "lasso_flex = make_pipeline(StandardScaler(), RLasso(post=False)).fit(Xflex_train, y_train)\n",
        "ypred_lasso_flex = lasso_flex.predict(Xflex_test)\n",
        "results['lasso_flex'] = metrics(Xflex_test, y_test, lasso_flex)"
      ]
    },
    {
      "cell_type": "code",
      "execution_count": 24,
      "metadata": {
        "id": "tQfiiFbcXzEM",
        "outputId": "14970d96-bdc7-47e6-e1a5-4942163211d3",
        "colab": {
          "base_uri": "https://localhost:8080/"
        }
      },
      "outputs": [
        {
          "output_type": "stream",
          "name": "stdout",
          "text": [
            "0.2383, 0.0171, 0.2726\n"
          ]
        }
      ],
      "source": [
        "postlasso = make_pipeline(StandardScaler(), RLasso(post=True)).fit(X_train, y_train)\n",
        "ypred_postlasso = postlasso.predict(X_test)\n",
        "results['postlasso'] = metrics(X_test, y_test, postlasso)"
      ]
    },
    {
      "cell_type": "code",
      "execution_count": 25,
      "metadata": {
        "id": "JwgiRcnOXzEM",
        "outputId": "6e2ff524-ec83-4bde-8f1c-f71ac4d5fa78",
        "colab": {
          "base_uri": "https://localhost:8080/"
        }
      },
      "outputs": [
        {
          "output_type": "stream",
          "name": "stdout",
          "text": [
            "0.2404, 0.0171, 0.2662\n"
          ]
        }
      ],
      "source": [
        "postlasso_flex = make_pipeline(StandardScaler(), RLasso(post=True)).fit(Xflex_train, y_train)\n",
        "ypred_postlasso_flex = postlasso_flex.predict(Xflex_test)\n",
        "results['postlasso_flex'] = metrics(Xflex_test, y_test, postlasso_flex)"
      ]
    },
    {
      "cell_type": "markdown",
      "metadata": {
        "id": "sy-KINKTXzEM"
      },
      "source": [
        "# Non-Linear Models"
      ]
    },
    {
      "cell_type": "markdown",
      "metadata": {
        "id": "02dJMG8WXzEM"
      },
      "source": [
        "Besides linear regression models, we consider nonlinear regression models to build a predictive model. We are applying regression trees, random forests, boosted trees and neural nets to estimate the regression function $g(X)$."
      ]
    },
    {
      "cell_type": "markdown",
      "metadata": {
        "id": "ZutkU9uqXzEM"
      },
      "source": [
        "## Regression Trees"
      ]
    },
    {
      "cell_type": "markdown",
      "metadata": {
        "id": "Iw8iY-JZXzEN"
      },
      "source": [
        "We fit a regression tree to the training data using the basic model. The variable *alpha_cp* controls the complexity of the regression tree, i.e. how deep we build the tree."
      ]
    },
    {
      "cell_type": "code",
      "execution_count": 26,
      "metadata": {
        "id": "Tv41p-N-XzEN"
      },
      "outputs": [],
      "source": [
        "from sklearn.tree import DecisionTreeRegressor"
      ]
    },
    {
      "cell_type": "code",
      "execution_count": 27,
      "metadata": {
        "id": "vS7hcZ4WXzEN",
        "outputId": "3ced9cb3-636a-4a98-8ce7-0083d84eed29",
        "colab": {
          "base_uri": "https://localhost:8080/"
        }
      },
      "outputs": [
        {
          "output_type": "stream",
          "name": "stdout",
          "text": [
            "0.2592, 0.0157, 0.2088\n"
          ]
        }
      ],
      "source": [
        "dtr = DecisionTreeRegressor(ccp_alpha=0.001, min_samples_leaf=5, random_state=123).fit(X_train, y_train)\n",
        "ypred_dtr = dtr.predict(X_test)\n",
        "results['dtr'] = metrics(X_test, y_test, dtr)"
      ]
    },
    {
      "cell_type": "markdown",
      "metadata": {
        "id": "I7_I1E5MXzEN"
      },
      "source": [
        "## Random Forests"
      ]
    },
    {
      "cell_type": "code",
      "execution_count": 28,
      "metadata": {
        "id": "NK8q3UN-XzEN"
      },
      "outputs": [],
      "source": [
        "from sklearn.ensemble import RandomForestRegressor"
      ]
    },
    {
      "cell_type": "code",
      "execution_count": 29,
      "metadata": {
        "id": "xcDIsHugXzEN",
        "outputId": "f3e42248-aed4-4b2e-b5b3-9c03217553f3",
        "colab": {
          "base_uri": "https://localhost:8080/"
        }
      },
      "outputs": [
        {
          "output_type": "stream",
          "name": "stdout",
          "text": [
            "0.2358, 0.0154, 0.2802\n"
          ]
        }
      ],
      "source": [
        "rf = RandomForestRegressor(n_estimators=2000, min_samples_leaf=5, random_state=123)\n",
        "rf.fit(X_train, y_train)\n",
        "ypred_rf = rf.predict(X_test)\n",
        "results['rf'] = metrics(X_test, y_test, rf)"
      ]
    },
    {
      "cell_type": "markdown",
      "metadata": {
        "id": "zdoBNOYlXzEN"
      },
      "source": [
        "## Gradient Boosted Forests"
      ]
    },
    {
      "cell_type": "code",
      "execution_count": 30,
      "metadata": {
        "id": "Xzl07xdkXzEN"
      },
      "outputs": [],
      "source": [
        "from sklearn.ensemble import GradientBoostingRegressor"
      ]
    },
    {
      "cell_type": "code",
      "execution_count": 31,
      "metadata": {
        "id": "riShnZGtXzEN",
        "outputId": "ba7d8fc2-afc1-4e45-e12e-bab708af3637",
        "colab": {
          "base_uri": "https://localhost:8080/"
        }
      },
      "outputs": [
        {
          "output_type": "stream",
          "name": "stdout",
          "text": [
            "0.2364, 0.0158, 0.2783\n"
          ]
        }
      ],
      "source": [
        "gbf = GradientBoostingRegressor(n_estimators=1000, learning_rate=.01,\n",
        "                                subsample=.5, max_depth=2, random_state=123)\n",
        "gbf.fit(X_train, y_train)\n",
        "ypred_gbf = gbf.predict(X_test)\n",
        "results['gbf'] = metrics(X_test, y_test, gbf)"
      ]
    },
    {
      "cell_type": "markdown",
      "metadata": {
        "id": "obDSF4NuXzEO"
      },
      "source": [
        "## NNets"
      ]
    },
    {
      "cell_type": "code",
      "execution_count": 32,
      "metadata": {
        "id": "kqY6JgTuXzEO"
      },
      "outputs": [],
      "source": [
        "from sklearn.neural_network import MLPRegressor"
      ]
    },
    {
      "cell_type": "code",
      "execution_count": 33,
      "metadata": {
        "id": "_P4V7pKqXzEO",
        "outputId": "0e3c76c3-f34e-47d4-e98e-52238692baeb",
        "colab": {
          "base_uri": "https://localhost:8080/"
        }
      },
      "outputs": [
        {
          "output_type": "stream",
          "name": "stdout",
          "text": [
            "0.2829, 0.0188, 0.1365\n"
          ]
        }
      ],
      "source": [
        "nnet = MLPRegressor((200, 20,), 'relu',\n",
        "                    learning_rate_init=0.01,\n",
        "                    batch_size=10, max_iter=10,\n",
        "                    random_state=123)\n",
        "nnet.fit(X_train, y_train)\n",
        "ypred_nnet = nnet.predict(X_test)\n",
        "results['nnet'] = metrics(X_test, y_test, nnet)"
      ]
    },
    {
      "cell_type": "markdown",
      "source": [
        "# EXPERIMENT 1: Tuning hyperparameters of the Neural Network using Randomized Cross-Validated Search over:\n",
        "\n",
        "The code below aims to improve the test performance of the neural network by performing a randomized hyperparameter search\n",
        "\n",
        "- **Hidden layer sizes**: A list of possible architectures for the neural network, defined by the number of neurons in each layer. The search considers the following configurations:\n",
        "    \n",
        "$$\\{(200, 20), (50,), (100,), (100, 50), (200, 100, 50)\\}$$\n",
        "    \n",
        "- **Activation function**: The activation function used in the neurons. The following options are considered:\n",
        "    \n",
        "$$\\{\\text{relu}, \\text{tanh}\\}$$\n",
        "    \n",
        "- **Alpha**: The L2 regularization strength, controlling the regularization applied to the weights of the network. The search considers the following values:\n",
        "    \n",
        "$$\\{0.0001, 0.001, 0.01\\}$$\n",
        "    \n",
        "- **Learning rate initialization**: The initial learning rate for the optimizer. The search considers the following values:\n",
        "\n",
        "$$\\{0.001, 0.01, 0.1\\}$$\n",
        "    \n",
        "- **Batch size**: The number of samples per batch used in training the neural network. The following values are considered:\n",
        "\n",
        "$$\\{2, 5, 10, 50, 100\\}$$\n"
      ],
      "metadata": {
        "id": "XcuOCKipk8YX"
      }
    },
    {
      "cell_type": "code",
      "source": [
        "from sklearn.model_selection import GridSearchCV, RandomizedSearchCV\n",
        "mlp = MLPRegressor(max_iter=500, random_state=123)\n",
        "\n",
        "# Grid search of hyperparameters\n",
        "param_grid = {\n",
        "    \"hidden_layer_sizes\": [(200,20,), (50,), (100,), (100, 50), (200, 100, 50)],  # Different architectures\n",
        "    \"activation\": [\"relu\", \"tanh\"],  # Activation functions\n",
        "    \"alpha\": [0.0001, 0.001, 0.01],  # L2 regularization strength\n",
        "    \"learning_rate_init\": [0.001, 0.01, 0.1],  # Initial learning rate\n",
        "    \"batch_size\": [2, 5, 10, 50, 100]\n",
        "}\n",
        "\n",
        "randomized_search = RandomizedSearchCV(mlp, param_grid, cv=5, scoring=\"r2\", n_jobs=-1, verbose=2)\n",
        "randomized_search.fit(X_train, y_train)\n",
        "\n",
        "print(\"Best Parameters:\", randomized_search.best_params_)\n",
        "best_model_RS = randomized_search.best_estimator_\n",
        "ypred_nnet_tuned_RS = best_model_RS.predict(X_test)\n",
        "results['nnet_tuned_RS'] = metrics(X_test, y_test, best_model_RS)"
      ],
      "metadata": {
        "id": "oWFRZJtsk8JG",
        "outputId": "f13db079-a49c-4e37-b088-520581388a46",
        "colab": {
          "base_uri": "https://localhost:8080/"
        }
      },
      "execution_count": 38,
      "outputs": [
        {
          "output_type": "stream",
          "name": "stdout",
          "text": [
            "Fitting 5 folds for each of 10 candidates, totalling 50 fits\n",
            "Best Parameters: {'learning_rate_init': 0.001, 'hidden_layer_sizes': (50,), 'batch_size': 100, 'alpha': 0.01, 'activation': 'tanh'}\n",
            "0.2829, 0.0188, 0.1365\n"
          ]
        }
      ]
    },
    {
      "cell_type": "markdown",
      "source": [
        "The randomized search took around 15 minutes and found the following parameters to be optimal:\n",
        "\n",
        "\n",
        "\n",
        "```\n",
        "Fitting 5 folds for each of 10 candidates, totalling 50 fits\n",
        "Best Parameters: {'learning_rate_init': 0.001, 'hidden_layer_sizes': (50,), 'batch_size': 100, 'alpha': 0.01, 'activation': 'tanh'}\n",
        "```\n",
        "\n",
        "Using these optimized hyperparameters, we get the following results:\n",
        "\n",
        "$$0.2451, 0.0144, 0.2518$$\n",
        "\n",
        "which are **considerably** better than the un-tuned neural network in the original notebook (0.2829, 0.0188, 0.1365).\n",
        "\n"
      ],
      "metadata": {
        "id": "ApGQ0xLmqpwr"
      }
    },
    {
      "cell_type": "markdown",
      "source": [
        "# EXPERIMENT 2: Tuning hyperparameters of the Neural Network using Bayesian Optimization:\n",
        "\n",
        "The code below aims to improve the test performance of the neural network by performing Bayesian Optimization on the hyperparameters\n",
        "\n",
        "- **Hidden layer sizes**: A list of possible architectures for the neural network, defined by the number of neurons in each layer. The search considers the following configurations:\n",
        "    \n",
        "$$\\{(200, 20), (50,), (100,), (100, 50), (200, 100, 50)\\}$$\n",
        "    \n",
        "- **Activation function**: The activation function used in the neurons. The following options are considered:\n",
        "    \n",
        "$$\\{\\text{relu}, \\text{tanh}\\}$$\n",
        "    \n",
        "- **Alpha**: The L2 regularization strength, controlling the regularization applied to the weights of the network. The search considers the following values:\n",
        "    \n",
        "$$\\{0.0001, 0.001, 0.01\\}$$\n",
        "    \n",
        "- **Learning rate initialization**: The initial learning rate for the optimizer. The search considers the following values:\n",
        "\n",
        "$$\\{0.001, 0.01, 0.1\\}$$\n",
        "    \n",
        "- **Batch size**: The number of samples per batch used in training the neural network. The following values are considered:\n",
        "\n",
        "$$\\{2, 5, 10, 50, 100\\}$$\n"
      ],
      "metadata": {
        "id": "wdlJXRyvrz1t"
      }
    },
    {
      "cell_type": "code",
      "source": [
        "!pip install scikit-optimize\n"
      ],
      "metadata": {
        "id": "W6rQ1_GDseQ_",
        "outputId": "ce50902d-0fd9-4b19-c35b-ea2a84846c81",
        "colab": {
          "base_uri": "https://localhost:8080/"
        }
      },
      "execution_count": 43,
      "outputs": [
        {
          "output_type": "stream",
          "name": "stdout",
          "text": [
            "Collecting scikit-optimize\n",
            "  Downloading scikit_optimize-0.10.2-py2.py3-none-any.whl.metadata (9.7 kB)\n",
            "Requirement already satisfied: joblib>=0.11 in /usr/local/lib/python3.11/dist-packages (from scikit-optimize) (1.4.2)\n",
            "Collecting pyaml>=16.9 (from scikit-optimize)\n",
            "  Downloading pyaml-25.1.0-py3-none-any.whl.metadata (12 kB)\n",
            "Requirement already satisfied: numpy>=1.20.3 in /usr/local/lib/python3.11/dist-packages (from scikit-optimize) (2.0.2)\n",
            "Requirement already satisfied: scipy>=1.1.0 in /usr/local/lib/python3.11/dist-packages (from scikit-optimize) (1.14.1)\n",
            "Requirement already satisfied: scikit-learn>=1.0.0 in /usr/local/lib/python3.11/dist-packages (from scikit-optimize) (1.6.1)\n",
            "Requirement already satisfied: packaging>=21.3 in /usr/local/lib/python3.11/dist-packages (from scikit-optimize) (24.2)\n",
            "Requirement already satisfied: PyYAML in /usr/local/lib/python3.11/dist-packages (from pyaml>=16.9->scikit-optimize) (6.0.2)\n",
            "Requirement already satisfied: threadpoolctl>=3.1.0 in /usr/local/lib/python3.11/dist-packages (from scikit-learn>=1.0.0->scikit-optimize) (3.6.0)\n",
            "Downloading scikit_optimize-0.10.2-py2.py3-none-any.whl (107 kB)\n",
            "\u001b[2K   \u001b[90m━━━━━━━━━━━━━━━━━━━━━━━━━━━━━━━━━━━━━━━━\u001b[0m \u001b[32m107.8/107.8 kB\u001b[0m \u001b[31m2.2 MB/s\u001b[0m eta \u001b[36m0:00:00\u001b[0m\n",
            "\u001b[?25hDownloading pyaml-25.1.0-py3-none-any.whl (26 kB)\n",
            "Installing collected packages: pyaml, scikit-optimize\n",
            "Successfully installed pyaml-25.1.0 scikit-optimize-0.10.2\n"
          ]
        }
      ]
    },
    {
      "cell_type": "code",
      "source": [
        "from skopt import BayesSearchCV"
      ],
      "metadata": {
        "id": "P11DSi5tsDFx"
      },
      "execution_count": 44,
      "outputs": []
    },
    {
      "cell_type": "code",
      "source": [
        "mlp = MLPRegressor(max_iter=500, random_state=123)\n",
        "\n",
        "# Grid search of hyperparameters\n",
        "param_grid = {\n",
        "    \"hidden_layer_sizes\": [(200,20,), (50,), (100,), (100, 50), (200, 100, 50)],  # Different architectures\n",
        "    \"activation\": [\"relu\", \"tanh\"],  # Activation functions\n",
        "    \"alpha\": [0.0001, 0.001, 0.01],  # L2 regularization strength\n",
        "    \"learning_rate_init\": [0.001, 0.01, 0.1],  # Initial learning rate\n",
        "    \"batch_size\": [2, 5, 10, 50, 100]\n",
        "}\n",
        "\n",
        "bayes_search = RandomizedSearchCV(mlp, param_grid, cv=5, scoring=\"r2\", n_jobs=-1, verbose=2, n_iter = 10)\n",
        "bayes_search.fit(X_train, y_train)\n",
        "\n",
        "print(\"Best Parameters:\", bayes_search.best_params_)\n",
        "best_model_BS = bayes_search.best_estimator_\n",
        "ypred_nnet_tuned_BS = best_model_BS.predict(X_test)\n",
        "results['nnet_tuned_BS'] = metrics(X_test, y_test, best_model_BS)"
      ],
      "metadata": {
        "id": "PcJGC7zTsafN",
        "outputId": "e4052c4f-736e-450b-dab1-7a7cb2788564",
        "colab": {
          "base_uri": "https://localhost:8080/",
          "height": 373
        }
      },
      "execution_count": 45,
      "outputs": [
        {
          "output_type": "stream",
          "name": "stdout",
          "text": [
            "Fitting 5 folds for each of 10 candidates, totalling 50 fits\n"
          ]
        },
        {
          "output_type": "error",
          "ename": "KeyboardInterrupt",
          "evalue": "",
          "traceback": [
            "\u001b[0;31m---------------------------------------------------------------------------\u001b[0m",
            "\u001b[0;31mKeyboardInterrupt\u001b[0m                         Traceback (most recent call last)",
            "\u001b[0;32m<ipython-input-45-cc43c00adc7f>\u001b[0m in \u001b[0;36m<cell line: 0>\u001b[0;34m()\u001b[0m\n\u001b[1;32m     11\u001b[0m \u001b[0;34m\u001b[0m\u001b[0m\n\u001b[1;32m     12\u001b[0m \u001b[0mbayes_search\u001b[0m \u001b[0;34m=\u001b[0m \u001b[0mRandomizedSearchCV\u001b[0m\u001b[0;34m(\u001b[0m\u001b[0mmlp\u001b[0m\u001b[0;34m,\u001b[0m \u001b[0mparam_grid\u001b[0m\u001b[0;34m,\u001b[0m \u001b[0mcv\u001b[0m\u001b[0;34m=\u001b[0m\u001b[0;36m5\u001b[0m\u001b[0;34m,\u001b[0m \u001b[0mscoring\u001b[0m\u001b[0;34m=\u001b[0m\u001b[0;34m\"r2\"\u001b[0m\u001b[0;34m,\u001b[0m \u001b[0mn_jobs\u001b[0m\u001b[0;34m=\u001b[0m\u001b[0;34m-\u001b[0m\u001b[0;36m1\u001b[0m\u001b[0;34m,\u001b[0m \u001b[0mverbose\u001b[0m\u001b[0;34m=\u001b[0m\u001b[0;36m2\u001b[0m\u001b[0;34m,\u001b[0m \u001b[0mn_iter\u001b[0m \u001b[0;34m=\u001b[0m \u001b[0;36m10\u001b[0m\u001b[0;34m)\u001b[0m\u001b[0;34m\u001b[0m\u001b[0;34m\u001b[0m\u001b[0m\n\u001b[0;32m---> 13\u001b[0;31m \u001b[0mbayes_search\u001b[0m\u001b[0;34m.\u001b[0m\u001b[0mfit\u001b[0m\u001b[0;34m(\u001b[0m\u001b[0mX_train\u001b[0m\u001b[0;34m,\u001b[0m \u001b[0my_train\u001b[0m\u001b[0;34m)\u001b[0m\u001b[0;34m\u001b[0m\u001b[0;34m\u001b[0m\u001b[0m\n\u001b[0m\u001b[1;32m     14\u001b[0m \u001b[0;34m\u001b[0m\u001b[0m\n\u001b[1;32m     15\u001b[0m \u001b[0mprint\u001b[0m\u001b[0;34m(\u001b[0m\u001b[0;34m\"Best Parameters:\"\u001b[0m\u001b[0;34m,\u001b[0m \u001b[0mbayes_search\u001b[0m\u001b[0;34m.\u001b[0m\u001b[0mbest_params_\u001b[0m\u001b[0;34m)\u001b[0m\u001b[0;34m\u001b[0m\u001b[0;34m\u001b[0m\u001b[0m\n",
            "\u001b[0;32m/usr/local/lib/python3.11/dist-packages/sklearn/base.py\u001b[0m in \u001b[0;36mwrapper\u001b[0;34m(estimator, *args, **kwargs)\u001b[0m\n\u001b[1;32m   1387\u001b[0m                 )\n\u001b[1;32m   1388\u001b[0m             ):\n\u001b[0;32m-> 1389\u001b[0;31m                 \u001b[0;32mreturn\u001b[0m \u001b[0mfit_method\u001b[0m\u001b[0;34m(\u001b[0m\u001b[0mestimator\u001b[0m\u001b[0;34m,\u001b[0m \u001b[0;34m*\u001b[0m\u001b[0margs\u001b[0m\u001b[0;34m,\u001b[0m \u001b[0;34m**\u001b[0m\u001b[0mkwargs\u001b[0m\u001b[0;34m)\u001b[0m\u001b[0;34m\u001b[0m\u001b[0;34m\u001b[0m\u001b[0m\n\u001b[0m\u001b[1;32m   1390\u001b[0m \u001b[0;34m\u001b[0m\u001b[0m\n\u001b[1;32m   1391\u001b[0m         \u001b[0;32mreturn\u001b[0m \u001b[0mwrapper\u001b[0m\u001b[0;34m\u001b[0m\u001b[0;34m\u001b[0m\u001b[0m\n",
            "\u001b[0;32m/usr/local/lib/python3.11/dist-packages/sklearn/model_selection/_search.py\u001b[0m in \u001b[0;36mfit\u001b[0;34m(self, X, y, **params)\u001b[0m\n\u001b[1;32m   1022\u001b[0m                 \u001b[0;32mreturn\u001b[0m \u001b[0mresults\u001b[0m\u001b[0;34m\u001b[0m\u001b[0;34m\u001b[0m\u001b[0m\n\u001b[1;32m   1023\u001b[0m \u001b[0;34m\u001b[0m\u001b[0m\n\u001b[0;32m-> 1024\u001b[0;31m             \u001b[0mself\u001b[0m\u001b[0;34m.\u001b[0m\u001b[0m_run_search\u001b[0m\u001b[0;34m(\u001b[0m\u001b[0mevaluate_candidates\u001b[0m\u001b[0;34m)\u001b[0m\u001b[0;34m\u001b[0m\u001b[0;34m\u001b[0m\u001b[0m\n\u001b[0m\u001b[1;32m   1025\u001b[0m \u001b[0;34m\u001b[0m\u001b[0m\n\u001b[1;32m   1026\u001b[0m             \u001b[0;31m# multimetric is determined here because in the case of a callable\u001b[0m\u001b[0;34m\u001b[0m\u001b[0;34m\u001b[0m\u001b[0m\n",
            "\u001b[0;32m/usr/local/lib/python3.11/dist-packages/sklearn/model_selection/_search.py\u001b[0m in \u001b[0;36m_run_search\u001b[0;34m(self, evaluate_candidates)\u001b[0m\n\u001b[1;32m   1949\u001b[0m     \u001b[0;32mdef\u001b[0m \u001b[0m_run_search\u001b[0m\u001b[0;34m(\u001b[0m\u001b[0mself\u001b[0m\u001b[0;34m,\u001b[0m \u001b[0mevaluate_candidates\u001b[0m\u001b[0;34m)\u001b[0m\u001b[0;34m:\u001b[0m\u001b[0;34m\u001b[0m\u001b[0;34m\u001b[0m\u001b[0m\n\u001b[1;32m   1950\u001b[0m         \u001b[0;34m\"\"\"Search n_iter candidates from param_distributions\"\"\"\u001b[0m\u001b[0;34m\u001b[0m\u001b[0;34m\u001b[0m\u001b[0m\n\u001b[0;32m-> 1951\u001b[0;31m         evaluate_candidates(\n\u001b[0m\u001b[1;32m   1952\u001b[0m             ParameterSampler(\n\u001b[1;32m   1953\u001b[0m                 \u001b[0mself\u001b[0m\u001b[0;34m.\u001b[0m\u001b[0mparam_distributions\u001b[0m\u001b[0;34m,\u001b[0m \u001b[0mself\u001b[0m\u001b[0;34m.\u001b[0m\u001b[0mn_iter\u001b[0m\u001b[0;34m,\u001b[0m \u001b[0mrandom_state\u001b[0m\u001b[0;34m=\u001b[0m\u001b[0mself\u001b[0m\u001b[0;34m.\u001b[0m\u001b[0mrandom_state\u001b[0m\u001b[0;34m\u001b[0m\u001b[0;34m\u001b[0m\u001b[0m\n",
            "\u001b[0;32m/usr/local/lib/python3.11/dist-packages/sklearn/model_selection/_search.py\u001b[0m in \u001b[0;36mevaluate_candidates\u001b[0;34m(candidate_params, cv, more_results)\u001b[0m\n\u001b[1;32m    968\u001b[0m                     )\n\u001b[1;32m    969\u001b[0m \u001b[0;34m\u001b[0m\u001b[0m\n\u001b[0;32m--> 970\u001b[0;31m                 out = parallel(\n\u001b[0m\u001b[1;32m    971\u001b[0m                     delayed(_fit_and_score)(\n\u001b[1;32m    972\u001b[0m                         \u001b[0mclone\u001b[0m\u001b[0;34m(\u001b[0m\u001b[0mbase_estimator\u001b[0m\u001b[0;34m)\u001b[0m\u001b[0;34m,\u001b[0m\u001b[0;34m\u001b[0m\u001b[0;34m\u001b[0m\u001b[0m\n",
            "\u001b[0;32m/usr/local/lib/python3.11/dist-packages/sklearn/utils/parallel.py\u001b[0m in \u001b[0;36m__call__\u001b[0;34m(self, iterable)\u001b[0m\n\u001b[1;32m     75\u001b[0m             \u001b[0;32mfor\u001b[0m \u001b[0mdelayed_func\u001b[0m\u001b[0;34m,\u001b[0m \u001b[0margs\u001b[0m\u001b[0;34m,\u001b[0m \u001b[0mkwargs\u001b[0m \u001b[0;32min\u001b[0m \u001b[0miterable\u001b[0m\u001b[0;34m\u001b[0m\u001b[0;34m\u001b[0m\u001b[0m\n\u001b[1;32m     76\u001b[0m         )\n\u001b[0;32m---> 77\u001b[0;31m         \u001b[0;32mreturn\u001b[0m \u001b[0msuper\u001b[0m\u001b[0;34m(\u001b[0m\u001b[0;34m)\u001b[0m\u001b[0;34m.\u001b[0m\u001b[0m__call__\u001b[0m\u001b[0;34m(\u001b[0m\u001b[0miterable_with_config\u001b[0m\u001b[0;34m)\u001b[0m\u001b[0;34m\u001b[0m\u001b[0;34m\u001b[0m\u001b[0m\n\u001b[0m\u001b[1;32m     78\u001b[0m \u001b[0;34m\u001b[0m\u001b[0m\n\u001b[1;32m     79\u001b[0m \u001b[0;34m\u001b[0m\u001b[0m\n",
            "\u001b[0;32m/usr/local/lib/python3.11/dist-packages/joblib/parallel.py\u001b[0m in \u001b[0;36m__call__\u001b[0;34m(self, iterable)\u001b[0m\n\u001b[1;32m   2005\u001b[0m         \u001b[0mnext\u001b[0m\u001b[0;34m(\u001b[0m\u001b[0moutput\u001b[0m\u001b[0;34m)\u001b[0m\u001b[0;34m\u001b[0m\u001b[0;34m\u001b[0m\u001b[0m\n\u001b[1;32m   2006\u001b[0m \u001b[0;34m\u001b[0m\u001b[0m\n\u001b[0;32m-> 2007\u001b[0;31m         \u001b[0;32mreturn\u001b[0m \u001b[0moutput\u001b[0m \u001b[0;32mif\u001b[0m \u001b[0mself\u001b[0m\u001b[0;34m.\u001b[0m\u001b[0mreturn_generator\u001b[0m \u001b[0;32melse\u001b[0m \u001b[0mlist\u001b[0m\u001b[0;34m(\u001b[0m\u001b[0moutput\u001b[0m\u001b[0;34m)\u001b[0m\u001b[0;34m\u001b[0m\u001b[0;34m\u001b[0m\u001b[0m\n\u001b[0m\u001b[1;32m   2008\u001b[0m \u001b[0;34m\u001b[0m\u001b[0m\n\u001b[1;32m   2009\u001b[0m     \u001b[0;32mdef\u001b[0m \u001b[0m__repr__\u001b[0m\u001b[0;34m(\u001b[0m\u001b[0mself\u001b[0m\u001b[0;34m)\u001b[0m\u001b[0;34m:\u001b[0m\u001b[0;34m\u001b[0m\u001b[0;34m\u001b[0m\u001b[0m\n",
            "\u001b[0;32m/usr/local/lib/python3.11/dist-packages/joblib/parallel.py\u001b[0m in \u001b[0;36m_get_outputs\u001b[0;34m(self, iterator, pre_dispatch)\u001b[0m\n\u001b[1;32m   1648\u001b[0m \u001b[0;34m\u001b[0m\u001b[0m\n\u001b[1;32m   1649\u001b[0m             \u001b[0;32mwith\u001b[0m \u001b[0mself\u001b[0m\u001b[0;34m.\u001b[0m\u001b[0m_backend\u001b[0m\u001b[0;34m.\u001b[0m\u001b[0mretrieval_context\u001b[0m\u001b[0;34m(\u001b[0m\u001b[0;34m)\u001b[0m\u001b[0;34m:\u001b[0m\u001b[0;34m\u001b[0m\u001b[0;34m\u001b[0m\u001b[0m\n\u001b[0;32m-> 1650\u001b[0;31m                 \u001b[0;32myield\u001b[0m \u001b[0;32mfrom\u001b[0m \u001b[0mself\u001b[0m\u001b[0;34m.\u001b[0m\u001b[0m_retrieve\u001b[0m\u001b[0;34m(\u001b[0m\u001b[0;34m)\u001b[0m\u001b[0;34m\u001b[0m\u001b[0;34m\u001b[0m\u001b[0m\n\u001b[0m\u001b[1;32m   1651\u001b[0m \u001b[0;34m\u001b[0m\u001b[0m\n\u001b[1;32m   1652\u001b[0m         \u001b[0;32mexcept\u001b[0m \u001b[0mGeneratorExit\u001b[0m\u001b[0;34m:\u001b[0m\u001b[0;34m\u001b[0m\u001b[0;34m\u001b[0m\u001b[0m\n",
            "\u001b[0;32m/usr/local/lib/python3.11/dist-packages/joblib/parallel.py\u001b[0m in \u001b[0;36m_retrieve\u001b[0;34m(self)\u001b[0m\n\u001b[1;32m   1760\u001b[0m                 (self._jobs[0].get_status(\n\u001b[1;32m   1761\u001b[0m                     timeout=self.timeout) == TASK_PENDING)):\n\u001b[0;32m-> 1762\u001b[0;31m                 \u001b[0mtime\u001b[0m\u001b[0;34m.\u001b[0m\u001b[0msleep\u001b[0m\u001b[0;34m(\u001b[0m\u001b[0;36m0.01\u001b[0m\u001b[0;34m)\u001b[0m\u001b[0;34m\u001b[0m\u001b[0;34m\u001b[0m\u001b[0m\n\u001b[0m\u001b[1;32m   1763\u001b[0m                 \u001b[0;32mcontinue\u001b[0m\u001b[0;34m\u001b[0m\u001b[0;34m\u001b[0m\u001b[0m\n\u001b[1;32m   1764\u001b[0m \u001b[0;34m\u001b[0m\u001b[0m\n",
            "\u001b[0;31mKeyboardInterrupt\u001b[0m: "
          ]
        }
      ]
    },
    {
      "cell_type": "markdown",
      "source": [
        "# EXPERIMENT 3: Hybrid linear and Nonlinear model\n",
        "\n",
        "After analyzing the results, we see that the basic linear model performs extremely well. Below we construct a partially linear model that borrows the strength of the basic linear model and corrects it slightly with a nonlinear deviation function. The goal is to make a marginal improvement over the regular OLS model by including the nonlinear deviation."
      ],
      "metadata": {
        "id": "LWEJJaTmtfzM"
      }
    },
    {
      "cell_type": "code",
      "source": [],
      "metadata": {
        "id": "MXWV74rxuM8t"
      },
      "execution_count": null,
      "outputs": []
    },
    {
      "cell_type": "markdown",
      "metadata": {
        "id": "sZXvw3M-c0qX"
      },
      "source": [
        "### Using the PyTorch Neural Network Library and its Sklearn API Skorch\n",
        "\n",
        "We first need to install skorch."
      ]
    },
    {
      "cell_type": "code",
      "execution_count": 42,
      "metadata": {
        "id": "eEESJO5Zc2fE",
        "outputId": "eb476efe-beb6-401b-b8b0-09ff16dc0e92",
        "colab": {
          "base_uri": "https://localhost:8080/"
        }
      },
      "outputs": [
        {
          "output_type": "stream",
          "name": "stdout",
          "text": [
            "Collecting skorch\n",
            "  Downloading skorch-1.1.0-py3-none-any.whl.metadata (11 kB)\n",
            "Requirement already satisfied: numpy>=1.13.3 in /usr/local/lib/python3.11/dist-packages (from skorch) (2.0.2)\n",
            "Requirement already satisfied: scikit-learn>=0.22.0 in /usr/local/lib/python3.11/dist-packages (from skorch) (1.6.1)\n",
            "Requirement already satisfied: scipy>=1.1.0 in /usr/local/lib/python3.11/dist-packages (from skorch) (1.14.1)\n",
            "Requirement already satisfied: tabulate>=0.7.7 in /usr/local/lib/python3.11/dist-packages (from skorch) (0.9.0)\n",
            "Requirement already satisfied: tqdm>=4.14.0 in /usr/local/lib/python3.11/dist-packages (from skorch) (4.67.1)\n",
            "Requirement already satisfied: joblib>=1.2.0 in /usr/local/lib/python3.11/dist-packages (from scikit-learn>=0.22.0->skorch) (1.4.2)\n",
            "Requirement already satisfied: threadpoolctl>=3.1.0 in /usr/local/lib/python3.11/dist-packages (from scikit-learn>=0.22.0->skorch) (3.6.0)\n",
            "Downloading skorch-1.1.0-py3-none-any.whl (228 kB)\n",
            "\u001b[2K   \u001b[90m━━━━━━━━━━━━━━━━━━━━━━━━━━━━━━━━━━━━━━━━\u001b[0m \u001b[32m228.9/228.9 kB\u001b[0m \u001b[31m3.7 MB/s\u001b[0m eta \u001b[36m0:00:00\u001b[0m\n",
            "\u001b[?25hInstalling collected packages: skorch\n",
            "Successfully installed skorch-1.1.0\n"
          ]
        }
      ],
      "source": [
        "!pip install skorch"
      ]
    },
    {
      "cell_type": "code",
      "execution_count": 43,
      "metadata": {
        "id": "3GaKrfy3XzEO"
      },
      "outputs": [],
      "source": [
        "import skorch\n",
        "from skorch import NeuralNetRegressor\n",
        "import torch.nn as nn\n",
        "import torch"
      ]
    },
    {
      "cell_type": "code",
      "execution_count": 44,
      "metadata": {
        "id": "7Ea4BEJfXzEO",
        "outputId": "9ad82141-c9b8-4401-d864-589b5454ded4",
        "colab": {
          "base_uri": "https://localhost:8080/"
        }
      },
      "outputs": [
        {
          "output_type": "stream",
          "name": "stdout",
          "text": [
            "  epoch    train_loss    valid_loss     dur\n",
            "-------  ------------  ------------  ------\n",
            "      1        \u001b[36m0.5141\u001b[0m        \u001b[32m0.2996\u001b[0m  0.6054\n",
            "      2        \u001b[36m0.3134\u001b[0m        \u001b[32m0.2576\u001b[0m  0.5095\n",
            "      3        \u001b[36m0.2835\u001b[0m        \u001b[32m0.2543\u001b[0m  0.5352\n",
            "      4        \u001b[36m0.2639\u001b[0m        \u001b[32m0.2503\u001b[0m  0.5480\n",
            "      5        \u001b[36m0.2499\u001b[0m        \u001b[32m0.2503\u001b[0m  0.5542\n",
            "      6        \u001b[36m0.2413\u001b[0m        \u001b[32m0.2495\u001b[0m  0.5631\n",
            "      7        \u001b[36m0.2309\u001b[0m        \u001b[32m0.2467\u001b[0m  0.7103\n",
            "      8        \u001b[36m0.2242\u001b[0m        0.2488  0.7279\n",
            "      9        \u001b[36m0.2195\u001b[0m        0.2481  0.7770\n",
            "     10        \u001b[36m0.2114\u001b[0m        0.2524  0.6736\n",
            "     11        \u001b[36m0.2058\u001b[0m        0.2511  0.5544\n",
            "Stopping since valid_loss has not improved in the last 5 epochs.\n",
            "0.2682, 0.0178, 0.1814\n"
          ]
        }
      ],
      "source": [
        "arch = nn.Sequential(nn.Linear(X_train.shape[1], 200), nn.ReLU(),\n",
        "                     nn.Linear(200, 20), nn.ReLU(),\n",
        "                     nn.Linear(20, 1))\n",
        "nnet_early = NeuralNetRegressor(arch, lr=0.01, batch_size=10,\n",
        "                                max_epochs=100,\n",
        "                                optimizer=torch.optim.Adam,\n",
        "                                callbacks=[skorch.callbacks.EarlyStopping()])\n",
        "nnet_early.fit(X_train.astype(np.float32), y_train.reshape(-1, 1).astype(np.float32))\n",
        "ypred_nnet_early = nnet_early.predict(X_test.astype(np.float32)).flatten()\n",
        "results['nnet_early'] = metrics(X_test.astype(np.float32),\n",
        "                                y_test.reshape(-1, 1).astype(np.float32), nnet_early)"
      ]
    },
    {
      "cell_type": "code",
      "execution_count": 45,
      "metadata": {
        "id": "Il9blxMsXzEO",
        "outputId": "3f039ea2-0df1-485d-b609-edb82f72e901",
        "colab": {
          "base_uri": "https://localhost:8080/",
          "height": 582
        }
      },
      "outputs": [
        {
          "output_type": "execute_result",
          "data": {
            "text/plain": [
              "                     MSE  S.E. MSE     $R^2$\n",
              "ols             0.234149  0.016693  0.285256\n",
              "ols_flex        0.249514  0.016967  0.238353\n",
              "lcv             0.233642  0.016675  0.286803\n",
              "lcv_flex        0.233264  0.016576  0.287957\n",
              "rcv             0.233912  0.016674  0.285980\n",
              "rcv_flex        0.239389  0.016365  0.269260\n",
              "ecv             0.233910  0.016680  0.285986\n",
              "ecv_flex        0.233313  0.016556  0.287807\n",
              "lasso           0.239700  0.016754  0.268310\n",
              "lasso_flex      0.239614  0.016641  0.268572\n",
              "postlasso       0.238308  0.017097  0.272561\n",
              "postlasso_flex  0.240389  0.017102  0.266208\n",
              "dtr             0.259211  0.015724  0.208753\n",
              "rf              0.235796  0.015426  0.280228\n",
              "gbf             0.236431  0.015821  0.278291\n",
              "nnet            0.282895  0.018845  0.136459\n",
              "nnet_early      0.268160  0.017767  0.181437"
            ],
            "text/html": [
              "\n",
              "  <div id=\"df-3cd506fa-cd0c-4eb8-801a-d404a053ac77\" class=\"colab-df-container\">\n",
              "    <div>\n",
              "<style scoped>\n",
              "    .dataframe tbody tr th:only-of-type {\n",
              "        vertical-align: middle;\n",
              "    }\n",
              "\n",
              "    .dataframe tbody tr th {\n",
              "        vertical-align: top;\n",
              "    }\n",
              "\n",
              "    .dataframe thead th {\n",
              "        text-align: right;\n",
              "    }\n",
              "</style>\n",
              "<table border=\"1\" class=\"dataframe\">\n",
              "  <thead>\n",
              "    <tr style=\"text-align: right;\">\n",
              "      <th></th>\n",
              "      <th>MSE</th>\n",
              "      <th>S.E. MSE</th>\n",
              "      <th>$R^2$</th>\n",
              "    </tr>\n",
              "  </thead>\n",
              "  <tbody>\n",
              "    <tr>\n",
              "      <th>ols</th>\n",
              "      <td>0.234149</td>\n",
              "      <td>0.016693</td>\n",
              "      <td>0.285256</td>\n",
              "    </tr>\n",
              "    <tr>\n",
              "      <th>ols_flex</th>\n",
              "      <td>0.249514</td>\n",
              "      <td>0.016967</td>\n",
              "      <td>0.238353</td>\n",
              "    </tr>\n",
              "    <tr>\n",
              "      <th>lcv</th>\n",
              "      <td>0.233642</td>\n",
              "      <td>0.016675</td>\n",
              "      <td>0.286803</td>\n",
              "    </tr>\n",
              "    <tr>\n",
              "      <th>lcv_flex</th>\n",
              "      <td>0.233264</td>\n",
              "      <td>0.016576</td>\n",
              "      <td>0.287957</td>\n",
              "    </tr>\n",
              "    <tr>\n",
              "      <th>rcv</th>\n",
              "      <td>0.233912</td>\n",
              "      <td>0.016674</td>\n",
              "      <td>0.285980</td>\n",
              "    </tr>\n",
              "    <tr>\n",
              "      <th>rcv_flex</th>\n",
              "      <td>0.239389</td>\n",
              "      <td>0.016365</td>\n",
              "      <td>0.269260</td>\n",
              "    </tr>\n",
              "    <tr>\n",
              "      <th>ecv</th>\n",
              "      <td>0.233910</td>\n",
              "      <td>0.016680</td>\n",
              "      <td>0.285986</td>\n",
              "    </tr>\n",
              "    <tr>\n",
              "      <th>ecv_flex</th>\n",
              "      <td>0.233313</td>\n",
              "      <td>0.016556</td>\n",
              "      <td>0.287807</td>\n",
              "    </tr>\n",
              "    <tr>\n",
              "      <th>lasso</th>\n",
              "      <td>0.239700</td>\n",
              "      <td>0.016754</td>\n",
              "      <td>0.268310</td>\n",
              "    </tr>\n",
              "    <tr>\n",
              "      <th>lasso_flex</th>\n",
              "      <td>0.239614</td>\n",
              "      <td>0.016641</td>\n",
              "      <td>0.268572</td>\n",
              "    </tr>\n",
              "    <tr>\n",
              "      <th>postlasso</th>\n",
              "      <td>0.238308</td>\n",
              "      <td>0.017097</td>\n",
              "      <td>0.272561</td>\n",
              "    </tr>\n",
              "    <tr>\n",
              "      <th>postlasso_flex</th>\n",
              "      <td>0.240389</td>\n",
              "      <td>0.017102</td>\n",
              "      <td>0.266208</td>\n",
              "    </tr>\n",
              "    <tr>\n",
              "      <th>dtr</th>\n",
              "      <td>0.259211</td>\n",
              "      <td>0.015724</td>\n",
              "      <td>0.208753</td>\n",
              "    </tr>\n",
              "    <tr>\n",
              "      <th>rf</th>\n",
              "      <td>0.235796</td>\n",
              "      <td>0.015426</td>\n",
              "      <td>0.280228</td>\n",
              "    </tr>\n",
              "    <tr>\n",
              "      <th>gbf</th>\n",
              "      <td>0.236431</td>\n",
              "      <td>0.015821</td>\n",
              "      <td>0.278291</td>\n",
              "    </tr>\n",
              "    <tr>\n",
              "      <th>nnet</th>\n",
              "      <td>0.282895</td>\n",
              "      <td>0.018845</td>\n",
              "      <td>0.136459</td>\n",
              "    </tr>\n",
              "    <tr>\n",
              "      <th>nnet_early</th>\n",
              "      <td>0.268160</td>\n",
              "      <td>0.017767</td>\n",
              "      <td>0.181437</td>\n",
              "    </tr>\n",
              "  </tbody>\n",
              "</table>\n",
              "</div>\n",
              "    <div class=\"colab-df-buttons\">\n",
              "\n",
              "  <div class=\"colab-df-container\">\n",
              "    <button class=\"colab-df-convert\" onclick=\"convertToInteractive('df-3cd506fa-cd0c-4eb8-801a-d404a053ac77')\"\n",
              "            title=\"Convert this dataframe to an interactive table.\"\n",
              "            style=\"display:none;\">\n",
              "\n",
              "  <svg xmlns=\"http://www.w3.org/2000/svg\" height=\"24px\" viewBox=\"0 -960 960 960\">\n",
              "    <path d=\"M120-120v-720h720v720H120Zm60-500h600v-160H180v160Zm220 220h160v-160H400v160Zm0 220h160v-160H400v160ZM180-400h160v-160H180v160Zm440 0h160v-160H620v160ZM180-180h160v-160H180v160Zm440 0h160v-160H620v160Z\"/>\n",
              "  </svg>\n",
              "    </button>\n",
              "\n",
              "  <style>\n",
              "    .colab-df-container {\n",
              "      display:flex;\n",
              "      gap: 12px;\n",
              "    }\n",
              "\n",
              "    .colab-df-convert {\n",
              "      background-color: #E8F0FE;\n",
              "      border: none;\n",
              "      border-radius: 50%;\n",
              "      cursor: pointer;\n",
              "      display: none;\n",
              "      fill: #1967D2;\n",
              "      height: 32px;\n",
              "      padding: 0 0 0 0;\n",
              "      width: 32px;\n",
              "    }\n",
              "\n",
              "    .colab-df-convert:hover {\n",
              "      background-color: #E2EBFA;\n",
              "      box-shadow: 0px 1px 2px rgba(60, 64, 67, 0.3), 0px 1px 3px 1px rgba(60, 64, 67, 0.15);\n",
              "      fill: #174EA6;\n",
              "    }\n",
              "\n",
              "    .colab-df-buttons div {\n",
              "      margin-bottom: 4px;\n",
              "    }\n",
              "\n",
              "    [theme=dark] .colab-df-convert {\n",
              "      background-color: #3B4455;\n",
              "      fill: #D2E3FC;\n",
              "    }\n",
              "\n",
              "    [theme=dark] .colab-df-convert:hover {\n",
              "      background-color: #434B5C;\n",
              "      box-shadow: 0px 1px 3px 1px rgba(0, 0, 0, 0.15);\n",
              "      filter: drop-shadow(0px 1px 2px rgba(0, 0, 0, 0.3));\n",
              "      fill: #FFFFFF;\n",
              "    }\n",
              "  </style>\n",
              "\n",
              "    <script>\n",
              "      const buttonEl =\n",
              "        document.querySelector('#df-3cd506fa-cd0c-4eb8-801a-d404a053ac77 button.colab-df-convert');\n",
              "      buttonEl.style.display =\n",
              "        google.colab.kernel.accessAllowed ? 'block' : 'none';\n",
              "\n",
              "      async function convertToInteractive(key) {\n",
              "        const element = document.querySelector('#df-3cd506fa-cd0c-4eb8-801a-d404a053ac77');\n",
              "        const dataTable =\n",
              "          await google.colab.kernel.invokeFunction('convertToInteractive',\n",
              "                                                    [key], {});\n",
              "        if (!dataTable) return;\n",
              "\n",
              "        const docLinkHtml = 'Like what you see? Visit the ' +\n",
              "          '<a target=\"_blank\" href=https://colab.research.google.com/notebooks/data_table.ipynb>data table notebook</a>'\n",
              "          + ' to learn more about interactive tables.';\n",
              "        element.innerHTML = '';\n",
              "        dataTable['output_type'] = 'display_data';\n",
              "        await google.colab.output.renderOutput(dataTable, element);\n",
              "        const docLink = document.createElement('div');\n",
              "        docLink.innerHTML = docLinkHtml;\n",
              "        element.appendChild(docLink);\n",
              "      }\n",
              "    </script>\n",
              "  </div>\n",
              "\n",
              "\n",
              "<div id=\"df-325dbd17-ab42-43c8-a5f6-6109b05d711f\">\n",
              "  <button class=\"colab-df-quickchart\" onclick=\"quickchart('df-325dbd17-ab42-43c8-a5f6-6109b05d711f')\"\n",
              "            title=\"Suggest charts\"\n",
              "            style=\"display:none;\">\n",
              "\n",
              "<svg xmlns=\"http://www.w3.org/2000/svg\" height=\"24px\"viewBox=\"0 0 24 24\"\n",
              "     width=\"24px\">\n",
              "    <g>\n",
              "        <path d=\"M19 3H5c-1.1 0-2 .9-2 2v14c0 1.1.9 2 2 2h14c1.1 0 2-.9 2-2V5c0-1.1-.9-2-2-2zM9 17H7v-7h2v7zm4 0h-2V7h2v10zm4 0h-2v-4h2v4z\"/>\n",
              "    </g>\n",
              "</svg>\n",
              "  </button>\n",
              "\n",
              "<style>\n",
              "  .colab-df-quickchart {\n",
              "      --bg-color: #E8F0FE;\n",
              "      --fill-color: #1967D2;\n",
              "      --hover-bg-color: #E2EBFA;\n",
              "      --hover-fill-color: #174EA6;\n",
              "      --disabled-fill-color: #AAA;\n",
              "      --disabled-bg-color: #DDD;\n",
              "  }\n",
              "\n",
              "  [theme=dark] .colab-df-quickchart {\n",
              "      --bg-color: #3B4455;\n",
              "      --fill-color: #D2E3FC;\n",
              "      --hover-bg-color: #434B5C;\n",
              "      --hover-fill-color: #FFFFFF;\n",
              "      --disabled-bg-color: #3B4455;\n",
              "      --disabled-fill-color: #666;\n",
              "  }\n",
              "\n",
              "  .colab-df-quickchart {\n",
              "    background-color: var(--bg-color);\n",
              "    border: none;\n",
              "    border-radius: 50%;\n",
              "    cursor: pointer;\n",
              "    display: none;\n",
              "    fill: var(--fill-color);\n",
              "    height: 32px;\n",
              "    padding: 0;\n",
              "    width: 32px;\n",
              "  }\n",
              "\n",
              "  .colab-df-quickchart:hover {\n",
              "    background-color: var(--hover-bg-color);\n",
              "    box-shadow: 0 1px 2px rgba(60, 64, 67, 0.3), 0 1px 3px 1px rgba(60, 64, 67, 0.15);\n",
              "    fill: var(--button-hover-fill-color);\n",
              "  }\n",
              "\n",
              "  .colab-df-quickchart-complete:disabled,\n",
              "  .colab-df-quickchart-complete:disabled:hover {\n",
              "    background-color: var(--disabled-bg-color);\n",
              "    fill: var(--disabled-fill-color);\n",
              "    box-shadow: none;\n",
              "  }\n",
              "\n",
              "  .colab-df-spinner {\n",
              "    border: 2px solid var(--fill-color);\n",
              "    border-color: transparent;\n",
              "    border-bottom-color: var(--fill-color);\n",
              "    animation:\n",
              "      spin 1s steps(1) infinite;\n",
              "  }\n",
              "\n",
              "  @keyframes spin {\n",
              "    0% {\n",
              "      border-color: transparent;\n",
              "      border-bottom-color: var(--fill-color);\n",
              "      border-left-color: var(--fill-color);\n",
              "    }\n",
              "    20% {\n",
              "      border-color: transparent;\n",
              "      border-left-color: var(--fill-color);\n",
              "      border-top-color: var(--fill-color);\n",
              "    }\n",
              "    30% {\n",
              "      border-color: transparent;\n",
              "      border-left-color: var(--fill-color);\n",
              "      border-top-color: var(--fill-color);\n",
              "      border-right-color: var(--fill-color);\n",
              "    }\n",
              "    40% {\n",
              "      border-color: transparent;\n",
              "      border-right-color: var(--fill-color);\n",
              "      border-top-color: var(--fill-color);\n",
              "    }\n",
              "    60% {\n",
              "      border-color: transparent;\n",
              "      border-right-color: var(--fill-color);\n",
              "    }\n",
              "    80% {\n",
              "      border-color: transparent;\n",
              "      border-right-color: var(--fill-color);\n",
              "      border-bottom-color: var(--fill-color);\n",
              "    }\n",
              "    90% {\n",
              "      border-color: transparent;\n",
              "      border-bottom-color: var(--fill-color);\n",
              "    }\n",
              "  }\n",
              "</style>\n",
              "\n",
              "  <script>\n",
              "    async function quickchart(key) {\n",
              "      const quickchartButtonEl =\n",
              "        document.querySelector('#' + key + ' button');\n",
              "      quickchartButtonEl.disabled = true;  // To prevent multiple clicks.\n",
              "      quickchartButtonEl.classList.add('colab-df-spinner');\n",
              "      try {\n",
              "        const charts = await google.colab.kernel.invokeFunction(\n",
              "            'suggestCharts', [key], {});\n",
              "      } catch (error) {\n",
              "        console.error('Error during call to suggestCharts:', error);\n",
              "      }\n",
              "      quickchartButtonEl.classList.remove('colab-df-spinner');\n",
              "      quickchartButtonEl.classList.add('colab-df-quickchart-complete');\n",
              "    }\n",
              "    (() => {\n",
              "      let quickchartButtonEl =\n",
              "        document.querySelector('#df-325dbd17-ab42-43c8-a5f6-6109b05d711f button');\n",
              "      quickchartButtonEl.style.display =\n",
              "        google.colab.kernel.accessAllowed ? 'block' : 'none';\n",
              "    })();\n",
              "  </script>\n",
              "</div>\n",
              "\n",
              "  <div id=\"id_d7b9fd85-5bcd-4d23-869e-58bdc83ce4bf\">\n",
              "    <style>\n",
              "      .colab-df-generate {\n",
              "        background-color: #E8F0FE;\n",
              "        border: none;\n",
              "        border-radius: 50%;\n",
              "        cursor: pointer;\n",
              "        display: none;\n",
              "        fill: #1967D2;\n",
              "        height: 32px;\n",
              "        padding: 0 0 0 0;\n",
              "        width: 32px;\n",
              "      }\n",
              "\n",
              "      .colab-df-generate:hover {\n",
              "        background-color: #E2EBFA;\n",
              "        box-shadow: 0px 1px 2px rgba(60, 64, 67, 0.3), 0px 1px 3px 1px rgba(60, 64, 67, 0.15);\n",
              "        fill: #174EA6;\n",
              "      }\n",
              "\n",
              "      [theme=dark] .colab-df-generate {\n",
              "        background-color: #3B4455;\n",
              "        fill: #D2E3FC;\n",
              "      }\n",
              "\n",
              "      [theme=dark] .colab-df-generate:hover {\n",
              "        background-color: #434B5C;\n",
              "        box-shadow: 0px 1px 3px 1px rgba(0, 0, 0, 0.15);\n",
              "        filter: drop-shadow(0px 1px 2px rgba(0, 0, 0, 0.3));\n",
              "        fill: #FFFFFF;\n",
              "      }\n",
              "    </style>\n",
              "    <button class=\"colab-df-generate\" onclick=\"generateWithVariable('df')\"\n",
              "            title=\"Generate code using this dataframe.\"\n",
              "            style=\"display:none;\">\n",
              "\n",
              "  <svg xmlns=\"http://www.w3.org/2000/svg\" height=\"24px\"viewBox=\"0 0 24 24\"\n",
              "       width=\"24px\">\n",
              "    <path d=\"M7,19H8.4L18.45,9,17,7.55,7,17.6ZM5,21V16.75L18.45,3.32a2,2,0,0,1,2.83,0l1.4,1.43a1.91,1.91,0,0,1,.58,1.4,1.91,1.91,0,0,1-.58,1.4L9.25,21ZM18.45,9,17,7.55Zm-12,3A5.31,5.31,0,0,0,4.9,8.1,5.31,5.31,0,0,0,1,6.5,5.31,5.31,0,0,0,4.9,4.9,5.31,5.31,0,0,0,6.5,1,5.31,5.31,0,0,0,8.1,4.9,5.31,5.31,0,0,0,12,6.5,5.46,5.46,0,0,0,6.5,12Z\"/>\n",
              "  </svg>\n",
              "    </button>\n",
              "    <script>\n",
              "      (() => {\n",
              "      const buttonEl =\n",
              "        document.querySelector('#id_d7b9fd85-5bcd-4d23-869e-58bdc83ce4bf button.colab-df-generate');\n",
              "      buttonEl.style.display =\n",
              "        google.colab.kernel.accessAllowed ? 'block' : 'none';\n",
              "\n",
              "      buttonEl.onclick = () => {\n",
              "        google.colab.notebook.generateWithVariable('df');\n",
              "      }\n",
              "      })();\n",
              "    </script>\n",
              "  </div>\n",
              "\n",
              "    </div>\n",
              "  </div>\n"
            ],
            "application/vnd.google.colaboratory.intrinsic+json": {
              "type": "dataframe",
              "variable_name": "df",
              "summary": "{\n  \"name\": \"df\",\n  \"rows\": 17,\n  \"fields\": [\n    {\n      \"column\": \"MSE\",\n      \"properties\": {\n        \"dtype\": \"number\",\n        \"std\": 0.014161695542952579,\n        \"min\": 0.2332640534385009,\n        \"max\": 0.28289463417454097,\n        \"num_unique_values\": 17,\n        \"samples\": [\n          0.23414882563556566,\n          0.24951425398779972,\n          0.23938928828178668\n        ],\n        \"semantic_type\": \"\",\n        \"description\": \"\"\n      }\n    },\n    {\n      \"column\": \"S.E. MSE\",\n      \"properties\": {\n        \"dtype\": \"number\",\n        \"std\": 0.0007754716331303133,\n        \"min\": 0.015425956123459542,\n        \"max\": 0.01884486603080188,\n        \"num_unique_values\": 17,\n        \"samples\": [\n          0.01669285525911165,\n          0.01696713954906244,\n          0.016365431548851103\n        ],\n        \"semantic_type\": \"\",\n        \"description\": \"\"\n      }\n    },\n    {\n      \"column\": \"$R^2$\",\n      \"properties\": {\n        \"dtype\": \"number\",\n        \"std\": 0.04322882456166917,\n        \"min\": 0.13645896741056407,\n        \"max\": 0.28795722068026286,\n        \"num_unique_values\": 17,\n        \"samples\": [\n          0.285256437404931,\n          0.23835318699799446,\n          0.2692598295584492\n        ],\n        \"semantic_type\": \"\",\n        \"description\": \"\"\n      }\n    }\n  ]\n}"
            }
          },
          "metadata": {},
          "execution_count": 45
        }
      ],
      "source": [
        "df = pd.DataFrame(results).T\n",
        "df.columns = ['MSE', 'S.E. MSE', '$R^2$']\n",
        "df"
      ]
    },
    {
      "cell_type": "markdown",
      "metadata": {
        "id": "uiNjydByXzEO"
      },
      "source": [
        "Above, we displayed the results for a single split of data into the training and testing part. The table shows the test MSE in column 1 as well as the standard error in column 2 and the test $R^2$\n",
        "in column 3. We see that the prediction rule produced by Cross-Validated Lasso using the flexible model performs the best here, giving the lowest test MSE. Cross-Validated Ridge performs nearly as well. For the majority of the considered methods, test MSEs are within one standard error of each other. Remarkably, OLS with just the basic variables performs extremely well. However, OLS on a flexible model with many regressors performs very poorly giving the highest test MSE. It is worth noticing that, as this is just a simple illustration that is meant to be relatively quick, the nonlinear methods are not tuned. Thus, there is potential to improve the performance of the nonlinear methods we used in the analysis."
      ]
    },
    {
      "cell_type": "markdown",
      "metadata": {
        "id": "5kqZBjN-XzEO"
      },
      "source": [
        "# Combining Predictions with Stacking"
      ]
    },
    {
      "cell_type": "markdown",
      "metadata": {
        "id": "ZajLaRcAXzEP"
      },
      "source": [
        "In the final step, we can build a prediction model by combining the strength of the models we considered so far. We consider stacking which froms its prediction rule as\n",
        "\t$$ f(x) = \\sum_{k=1}^K \\alpha_k f_k(x) $$\n",
        "where the $f_k$'s denote our prediction rules from the table above and the $\\alpha_k$'s are the corresponding weights. We choose to estimate the weights here without penalization."
      ]
    },
    {
      "cell_type": "code",
      "execution_count": 46,
      "metadata": {
        "id": "mRUGKnMxXzEP"
      },
      "outputs": [],
      "source": [
        "method_name = ['OLS', 'OLS (flexible)', 'CV Lasso', 'CV Lasso (flexible)',\n",
        "               'CV Ridge', 'CV Ridge (flexible)', 'CV ElasticNet', 'CV ElasticNet (flexible)',\n",
        "               'Lasso', 'Lasso (flexible)', 'Post-Lasso OLS', 'Post-Lasso OLS (flexible)',\n",
        "               'Decision Tree', 'Random Forest', 'Boosted Forest', 'Neural Net', 'Neural Net (early stopping)']\n",
        "ypreds = np.stack((ypred_ols, ypred_ols_flex, ypred_lcv, ypred_lcv_flex,\n",
        "                   ypred_rcv, ypred_rcv_flex, ypred_ecv, ypred_ecv_flex,\n",
        "                   ypred_lasso, ypred_lasso_flex, ypred_postlasso, ypred_postlasso_flex,\n",
        "                   ypred_dtr, ypred_rf, ypred_gbf, ypred_nnet, ypred_nnet_early), axis=-1)"
      ]
    },
    {
      "cell_type": "code",
      "execution_count": 47,
      "metadata": {
        "id": "eB2263h0XzEP"
      },
      "outputs": [],
      "source": [
        "stack_ols = LinearRegression().fit(ypreds, y_test)"
      ]
    },
    {
      "cell_type": "code",
      "execution_count": 48,
      "metadata": {
        "id": "xA-Z-89zXzEP",
        "outputId": "7921b666-bce6-4dbd-e659-74989a91e98a",
        "colab": {
          "base_uri": "https://localhost:8080/",
          "height": 582
        }
      },
      "outputs": [
        {
          "output_type": "execute_result",
          "data": {
            "text/plain": [
              "                               weight\n",
              "OLS                         -5.216513\n",
              "OLS (flexible)               0.008837\n",
              "CV Lasso                    -2.276187\n",
              "CV Lasso (flexible)         -6.408851\n",
              "CV Ridge                     6.144329\n",
              "CV Ridge (flexible)         -0.060234\n",
              "CV ElasticNet                1.930630\n",
              "CV ElasticNet (flexible)     6.506961\n",
              "Lasso                       -0.511482\n",
              "Lasso (flexible)             0.321842\n",
              "Post-Lasso OLS               0.023806\n",
              "Post-Lasso OLS (flexible)   -0.033178\n",
              "Decision Tree                0.095354\n",
              "Random Forest                0.400967\n",
              "Boosted Forest               0.055605\n",
              "Neural Net                  -0.013020\n",
              "Neural Net (early stopping)  0.051536"
            ],
            "text/html": [
              "\n",
              "  <div id=\"df-c8f7c706-5bd3-45e9-9466-b7f69f7ec8c3\" class=\"colab-df-container\">\n",
              "    <div>\n",
              "<style scoped>\n",
              "    .dataframe tbody tr th:only-of-type {\n",
              "        vertical-align: middle;\n",
              "    }\n",
              "\n",
              "    .dataframe tbody tr th {\n",
              "        vertical-align: top;\n",
              "    }\n",
              "\n",
              "    .dataframe thead th {\n",
              "        text-align: right;\n",
              "    }\n",
              "</style>\n",
              "<table border=\"1\" class=\"dataframe\">\n",
              "  <thead>\n",
              "    <tr style=\"text-align: right;\">\n",
              "      <th></th>\n",
              "      <th>weight</th>\n",
              "    </tr>\n",
              "  </thead>\n",
              "  <tbody>\n",
              "    <tr>\n",
              "      <th>OLS</th>\n",
              "      <td>-5.216513</td>\n",
              "    </tr>\n",
              "    <tr>\n",
              "      <th>OLS (flexible)</th>\n",
              "      <td>0.008837</td>\n",
              "    </tr>\n",
              "    <tr>\n",
              "      <th>CV Lasso</th>\n",
              "      <td>-2.276187</td>\n",
              "    </tr>\n",
              "    <tr>\n",
              "      <th>CV Lasso (flexible)</th>\n",
              "      <td>-6.408851</td>\n",
              "    </tr>\n",
              "    <tr>\n",
              "      <th>CV Ridge</th>\n",
              "      <td>6.144329</td>\n",
              "    </tr>\n",
              "    <tr>\n",
              "      <th>CV Ridge (flexible)</th>\n",
              "      <td>-0.060234</td>\n",
              "    </tr>\n",
              "    <tr>\n",
              "      <th>CV ElasticNet</th>\n",
              "      <td>1.930630</td>\n",
              "    </tr>\n",
              "    <tr>\n",
              "      <th>CV ElasticNet (flexible)</th>\n",
              "      <td>6.506961</td>\n",
              "    </tr>\n",
              "    <tr>\n",
              "      <th>Lasso</th>\n",
              "      <td>-0.511482</td>\n",
              "    </tr>\n",
              "    <tr>\n",
              "      <th>Lasso (flexible)</th>\n",
              "      <td>0.321842</td>\n",
              "    </tr>\n",
              "    <tr>\n",
              "      <th>Post-Lasso OLS</th>\n",
              "      <td>0.023806</td>\n",
              "    </tr>\n",
              "    <tr>\n",
              "      <th>Post-Lasso OLS (flexible)</th>\n",
              "      <td>-0.033178</td>\n",
              "    </tr>\n",
              "    <tr>\n",
              "      <th>Decision Tree</th>\n",
              "      <td>0.095354</td>\n",
              "    </tr>\n",
              "    <tr>\n",
              "      <th>Random Forest</th>\n",
              "      <td>0.400967</td>\n",
              "    </tr>\n",
              "    <tr>\n",
              "      <th>Boosted Forest</th>\n",
              "      <td>0.055605</td>\n",
              "    </tr>\n",
              "    <tr>\n",
              "      <th>Neural Net</th>\n",
              "      <td>-0.013020</td>\n",
              "    </tr>\n",
              "    <tr>\n",
              "      <th>Neural Net (early stopping)</th>\n",
              "      <td>0.051536</td>\n",
              "    </tr>\n",
              "  </tbody>\n",
              "</table>\n",
              "</div>\n",
              "    <div class=\"colab-df-buttons\">\n",
              "\n",
              "  <div class=\"colab-df-container\">\n",
              "    <button class=\"colab-df-convert\" onclick=\"convertToInteractive('df-c8f7c706-5bd3-45e9-9466-b7f69f7ec8c3')\"\n",
              "            title=\"Convert this dataframe to an interactive table.\"\n",
              "            style=\"display:none;\">\n",
              "\n",
              "  <svg xmlns=\"http://www.w3.org/2000/svg\" height=\"24px\" viewBox=\"0 -960 960 960\">\n",
              "    <path d=\"M120-120v-720h720v720H120Zm60-500h600v-160H180v160Zm220 220h160v-160H400v160Zm0 220h160v-160H400v160ZM180-400h160v-160H180v160Zm440 0h160v-160H620v160ZM180-180h160v-160H180v160Zm440 0h160v-160H620v160Z\"/>\n",
              "  </svg>\n",
              "    </button>\n",
              "\n",
              "  <style>\n",
              "    .colab-df-container {\n",
              "      display:flex;\n",
              "      gap: 12px;\n",
              "    }\n",
              "\n",
              "    .colab-df-convert {\n",
              "      background-color: #E8F0FE;\n",
              "      border: none;\n",
              "      border-radius: 50%;\n",
              "      cursor: pointer;\n",
              "      display: none;\n",
              "      fill: #1967D2;\n",
              "      height: 32px;\n",
              "      padding: 0 0 0 0;\n",
              "      width: 32px;\n",
              "    }\n",
              "\n",
              "    .colab-df-convert:hover {\n",
              "      background-color: #E2EBFA;\n",
              "      box-shadow: 0px 1px 2px rgba(60, 64, 67, 0.3), 0px 1px 3px 1px rgba(60, 64, 67, 0.15);\n",
              "      fill: #174EA6;\n",
              "    }\n",
              "\n",
              "    .colab-df-buttons div {\n",
              "      margin-bottom: 4px;\n",
              "    }\n",
              "\n",
              "    [theme=dark] .colab-df-convert {\n",
              "      background-color: #3B4455;\n",
              "      fill: #D2E3FC;\n",
              "    }\n",
              "\n",
              "    [theme=dark] .colab-df-convert:hover {\n",
              "      background-color: #434B5C;\n",
              "      box-shadow: 0px 1px 3px 1px rgba(0, 0, 0, 0.15);\n",
              "      filter: drop-shadow(0px 1px 2px rgba(0, 0, 0, 0.3));\n",
              "      fill: #FFFFFF;\n",
              "    }\n",
              "  </style>\n",
              "\n",
              "    <script>\n",
              "      const buttonEl =\n",
              "        document.querySelector('#df-c8f7c706-5bd3-45e9-9466-b7f69f7ec8c3 button.colab-df-convert');\n",
              "      buttonEl.style.display =\n",
              "        google.colab.kernel.accessAllowed ? 'block' : 'none';\n",
              "\n",
              "      async function convertToInteractive(key) {\n",
              "        const element = document.querySelector('#df-c8f7c706-5bd3-45e9-9466-b7f69f7ec8c3');\n",
              "        const dataTable =\n",
              "          await google.colab.kernel.invokeFunction('convertToInteractive',\n",
              "                                                    [key], {});\n",
              "        if (!dataTable) return;\n",
              "\n",
              "        const docLinkHtml = 'Like what you see? Visit the ' +\n",
              "          '<a target=\"_blank\" href=https://colab.research.google.com/notebooks/data_table.ipynb>data table notebook</a>'\n",
              "          + ' to learn more about interactive tables.';\n",
              "        element.innerHTML = '';\n",
              "        dataTable['output_type'] = 'display_data';\n",
              "        await google.colab.output.renderOutput(dataTable, element);\n",
              "        const docLink = document.createElement('div');\n",
              "        docLink.innerHTML = docLinkHtml;\n",
              "        element.appendChild(docLink);\n",
              "      }\n",
              "    </script>\n",
              "  </div>\n",
              "\n",
              "\n",
              "<div id=\"df-d6027a19-e8a4-4372-82f6-17f500a8d0b4\">\n",
              "  <button class=\"colab-df-quickchart\" onclick=\"quickchart('df-d6027a19-e8a4-4372-82f6-17f500a8d0b4')\"\n",
              "            title=\"Suggest charts\"\n",
              "            style=\"display:none;\">\n",
              "\n",
              "<svg xmlns=\"http://www.w3.org/2000/svg\" height=\"24px\"viewBox=\"0 0 24 24\"\n",
              "     width=\"24px\">\n",
              "    <g>\n",
              "        <path d=\"M19 3H5c-1.1 0-2 .9-2 2v14c0 1.1.9 2 2 2h14c1.1 0 2-.9 2-2V5c0-1.1-.9-2-2-2zM9 17H7v-7h2v7zm4 0h-2V7h2v10zm4 0h-2v-4h2v4z\"/>\n",
              "    </g>\n",
              "</svg>\n",
              "  </button>\n",
              "\n",
              "<style>\n",
              "  .colab-df-quickchart {\n",
              "      --bg-color: #E8F0FE;\n",
              "      --fill-color: #1967D2;\n",
              "      --hover-bg-color: #E2EBFA;\n",
              "      --hover-fill-color: #174EA6;\n",
              "      --disabled-fill-color: #AAA;\n",
              "      --disabled-bg-color: #DDD;\n",
              "  }\n",
              "\n",
              "  [theme=dark] .colab-df-quickchart {\n",
              "      --bg-color: #3B4455;\n",
              "      --fill-color: #D2E3FC;\n",
              "      --hover-bg-color: #434B5C;\n",
              "      --hover-fill-color: #FFFFFF;\n",
              "      --disabled-bg-color: #3B4455;\n",
              "      --disabled-fill-color: #666;\n",
              "  }\n",
              "\n",
              "  .colab-df-quickchart {\n",
              "    background-color: var(--bg-color);\n",
              "    border: none;\n",
              "    border-radius: 50%;\n",
              "    cursor: pointer;\n",
              "    display: none;\n",
              "    fill: var(--fill-color);\n",
              "    height: 32px;\n",
              "    padding: 0;\n",
              "    width: 32px;\n",
              "  }\n",
              "\n",
              "  .colab-df-quickchart:hover {\n",
              "    background-color: var(--hover-bg-color);\n",
              "    box-shadow: 0 1px 2px rgba(60, 64, 67, 0.3), 0 1px 3px 1px rgba(60, 64, 67, 0.15);\n",
              "    fill: var(--button-hover-fill-color);\n",
              "  }\n",
              "\n",
              "  .colab-df-quickchart-complete:disabled,\n",
              "  .colab-df-quickchart-complete:disabled:hover {\n",
              "    background-color: var(--disabled-bg-color);\n",
              "    fill: var(--disabled-fill-color);\n",
              "    box-shadow: none;\n",
              "  }\n",
              "\n",
              "  .colab-df-spinner {\n",
              "    border: 2px solid var(--fill-color);\n",
              "    border-color: transparent;\n",
              "    border-bottom-color: var(--fill-color);\n",
              "    animation:\n",
              "      spin 1s steps(1) infinite;\n",
              "  }\n",
              "\n",
              "  @keyframes spin {\n",
              "    0% {\n",
              "      border-color: transparent;\n",
              "      border-bottom-color: var(--fill-color);\n",
              "      border-left-color: var(--fill-color);\n",
              "    }\n",
              "    20% {\n",
              "      border-color: transparent;\n",
              "      border-left-color: var(--fill-color);\n",
              "      border-top-color: var(--fill-color);\n",
              "    }\n",
              "    30% {\n",
              "      border-color: transparent;\n",
              "      border-left-color: var(--fill-color);\n",
              "      border-top-color: var(--fill-color);\n",
              "      border-right-color: var(--fill-color);\n",
              "    }\n",
              "    40% {\n",
              "      border-color: transparent;\n",
              "      border-right-color: var(--fill-color);\n",
              "      border-top-color: var(--fill-color);\n",
              "    }\n",
              "    60% {\n",
              "      border-color: transparent;\n",
              "      border-right-color: var(--fill-color);\n",
              "    }\n",
              "    80% {\n",
              "      border-color: transparent;\n",
              "      border-right-color: var(--fill-color);\n",
              "      border-bottom-color: var(--fill-color);\n",
              "    }\n",
              "    90% {\n",
              "      border-color: transparent;\n",
              "      border-bottom-color: var(--fill-color);\n",
              "    }\n",
              "  }\n",
              "</style>\n",
              "\n",
              "  <script>\n",
              "    async function quickchart(key) {\n",
              "      const quickchartButtonEl =\n",
              "        document.querySelector('#' + key + ' button');\n",
              "      quickchartButtonEl.disabled = true;  // To prevent multiple clicks.\n",
              "      quickchartButtonEl.classList.add('colab-df-spinner');\n",
              "      try {\n",
              "        const charts = await google.colab.kernel.invokeFunction(\n",
              "            'suggestCharts', [key], {});\n",
              "      } catch (error) {\n",
              "        console.error('Error during call to suggestCharts:', error);\n",
              "      }\n",
              "      quickchartButtonEl.classList.remove('colab-df-spinner');\n",
              "      quickchartButtonEl.classList.add('colab-df-quickchart-complete');\n",
              "    }\n",
              "    (() => {\n",
              "      let quickchartButtonEl =\n",
              "        document.querySelector('#df-d6027a19-e8a4-4372-82f6-17f500a8d0b4 button');\n",
              "      quickchartButtonEl.style.display =\n",
              "        google.colab.kernel.accessAllowed ? 'block' : 'none';\n",
              "    })();\n",
              "  </script>\n",
              "</div>\n",
              "\n",
              "    </div>\n",
              "  </div>\n"
            ],
            "application/vnd.google.colaboratory.intrinsic+json": {
              "type": "dataframe",
              "summary": "{\n  \"name\": \"pd\",\n  \"rows\": 17,\n  \"fields\": [\n    {\n      \"column\": \"weight\",\n      \"properties\": {\n        \"dtype\": \"number\",\n        \"std\": 3.1401847940355974,\n        \"min\": -6.408851140664423,\n        \"max\": 6.506961155080042,\n        \"num_unique_values\": 17,\n        \"samples\": [\n          -5.216513274458713,\n          0.008836727016917845,\n          -0.060233512208677176\n        ],\n        \"semantic_type\": \"\",\n        \"description\": \"\"\n      }\n    }\n  ]\n}"
            }
          },
          "metadata": {},
          "execution_count": 48
        }
      ],
      "source": [
        "pd.DataFrame({'weight': stack_ols.coef_}, index=method_name)"
      ]
    },
    {
      "cell_type": "markdown",
      "metadata": {
        "id": "F88Zs6FbXzEP"
      },
      "source": [
        "We can calculate the test sample MSE. Though for more unbiased performance evaluation, we should have left out a third sample to validate the performance of the stacked model."
      ]
    },
    {
      "cell_type": "code",
      "execution_count": 49,
      "metadata": {
        "id": "4TfZSUXUXzEP"
      },
      "outputs": [],
      "source": [
        "mse = np.mean((y_test - stack_ols.predict(ypreds))**2)\n",
        "r2 = 1 - mse / np.var(y_test)"
      ]
    },
    {
      "cell_type": "code",
      "execution_count": 50,
      "metadata": {
        "id": "qtxDHUUYXzEP",
        "outputId": "4cace4ab-1570-4c0c-9738-e966b5b2e275",
        "colab": {
          "base_uri": "https://localhost:8080/"
        }
      },
      "outputs": [
        {
          "output_type": "execute_result",
          "data": {
            "text/plain": [
              "(np.float64(0.22720099158354834), np.float64(0.3064648276207643))"
            ]
          },
          "metadata": {},
          "execution_count": 50
        }
      ],
      "source": [
        "mse, r2"
      ]
    },
    {
      "cell_type": "markdown",
      "metadata": {
        "id": "mRpUh6GRXzEP"
      },
      "source": [
        "Alternatively, we can determine the weights via lasso regression."
      ]
    },
    {
      "cell_type": "code",
      "execution_count": 51,
      "metadata": {
        "id": "_vob37knXzEQ"
      },
      "outputs": [],
      "source": [
        "stack_lasso = RLasso(post=False).fit(ypreds, y_test)"
      ]
    },
    {
      "cell_type": "code",
      "execution_count": 52,
      "metadata": {
        "id": "9fgxOUysXzEQ",
        "outputId": "21988efd-8c6b-44cb-cb89-372530cebfed",
        "colab": {
          "base_uri": "https://localhost:8080/",
          "height": 582
        }
      },
      "outputs": [
        {
          "output_type": "execute_result",
          "data": {
            "text/plain": [
              "                               weight\n",
              "OLS                          0.000000\n",
              "OLS (flexible)               0.000000\n",
              "CV Lasso                     0.000000\n",
              "CV Lasso (flexible)          0.000000\n",
              "CV Ridge                     0.328969\n",
              "CV Ridge (flexible)          0.066523\n",
              "CV ElasticNet                0.000301\n",
              "CV ElasticNet (flexible)     0.132009\n",
              "Lasso                        0.000000\n",
              "Lasso (flexible)             0.000000\n",
              "Post-Lasso OLS               0.000000\n",
              "Post-Lasso OLS (flexible)    0.000000\n",
              "Decision Tree                0.000000\n",
              "Random Forest                0.387599\n",
              "Boosted Forest               0.000000\n",
              "Neural Net                   0.007171\n",
              "Neural Net (early stopping)  0.025995"
            ],
            "text/html": [
              "\n",
              "  <div id=\"df-e0049d2f-f4b0-40b7-a2a4-b07412d836fe\" class=\"colab-df-container\">\n",
              "    <div>\n",
              "<style scoped>\n",
              "    .dataframe tbody tr th:only-of-type {\n",
              "        vertical-align: middle;\n",
              "    }\n",
              "\n",
              "    .dataframe tbody tr th {\n",
              "        vertical-align: top;\n",
              "    }\n",
              "\n",
              "    .dataframe thead th {\n",
              "        text-align: right;\n",
              "    }\n",
              "</style>\n",
              "<table border=\"1\" class=\"dataframe\">\n",
              "  <thead>\n",
              "    <tr style=\"text-align: right;\">\n",
              "      <th></th>\n",
              "      <th>weight</th>\n",
              "    </tr>\n",
              "  </thead>\n",
              "  <tbody>\n",
              "    <tr>\n",
              "      <th>OLS</th>\n",
              "      <td>0.000000</td>\n",
              "    </tr>\n",
              "    <tr>\n",
              "      <th>OLS (flexible)</th>\n",
              "      <td>0.000000</td>\n",
              "    </tr>\n",
              "    <tr>\n",
              "      <th>CV Lasso</th>\n",
              "      <td>0.000000</td>\n",
              "    </tr>\n",
              "    <tr>\n",
              "      <th>CV Lasso (flexible)</th>\n",
              "      <td>0.000000</td>\n",
              "    </tr>\n",
              "    <tr>\n",
              "      <th>CV Ridge</th>\n",
              "      <td>0.328969</td>\n",
              "    </tr>\n",
              "    <tr>\n",
              "      <th>CV Ridge (flexible)</th>\n",
              "      <td>0.066523</td>\n",
              "    </tr>\n",
              "    <tr>\n",
              "      <th>CV ElasticNet</th>\n",
              "      <td>0.000301</td>\n",
              "    </tr>\n",
              "    <tr>\n",
              "      <th>CV ElasticNet (flexible)</th>\n",
              "      <td>0.132009</td>\n",
              "    </tr>\n",
              "    <tr>\n",
              "      <th>Lasso</th>\n",
              "      <td>0.000000</td>\n",
              "    </tr>\n",
              "    <tr>\n",
              "      <th>Lasso (flexible)</th>\n",
              "      <td>0.000000</td>\n",
              "    </tr>\n",
              "    <tr>\n",
              "      <th>Post-Lasso OLS</th>\n",
              "      <td>0.000000</td>\n",
              "    </tr>\n",
              "    <tr>\n",
              "      <th>Post-Lasso OLS (flexible)</th>\n",
              "      <td>0.000000</td>\n",
              "    </tr>\n",
              "    <tr>\n",
              "      <th>Decision Tree</th>\n",
              "      <td>0.000000</td>\n",
              "    </tr>\n",
              "    <tr>\n",
              "      <th>Random Forest</th>\n",
              "      <td>0.387599</td>\n",
              "    </tr>\n",
              "    <tr>\n",
              "      <th>Boosted Forest</th>\n",
              "      <td>0.000000</td>\n",
              "    </tr>\n",
              "    <tr>\n",
              "      <th>Neural Net</th>\n",
              "      <td>0.007171</td>\n",
              "    </tr>\n",
              "    <tr>\n",
              "      <th>Neural Net (early stopping)</th>\n",
              "      <td>0.025995</td>\n",
              "    </tr>\n",
              "  </tbody>\n",
              "</table>\n",
              "</div>\n",
              "    <div class=\"colab-df-buttons\">\n",
              "\n",
              "  <div class=\"colab-df-container\">\n",
              "    <button class=\"colab-df-convert\" onclick=\"convertToInteractive('df-e0049d2f-f4b0-40b7-a2a4-b07412d836fe')\"\n",
              "            title=\"Convert this dataframe to an interactive table.\"\n",
              "            style=\"display:none;\">\n",
              "\n",
              "  <svg xmlns=\"http://www.w3.org/2000/svg\" height=\"24px\" viewBox=\"0 -960 960 960\">\n",
              "    <path d=\"M120-120v-720h720v720H120Zm60-500h600v-160H180v160Zm220 220h160v-160H400v160Zm0 220h160v-160H400v160ZM180-400h160v-160H180v160Zm440 0h160v-160H620v160ZM180-180h160v-160H180v160Zm440 0h160v-160H620v160Z\"/>\n",
              "  </svg>\n",
              "    </button>\n",
              "\n",
              "  <style>\n",
              "    .colab-df-container {\n",
              "      display:flex;\n",
              "      gap: 12px;\n",
              "    }\n",
              "\n",
              "    .colab-df-convert {\n",
              "      background-color: #E8F0FE;\n",
              "      border: none;\n",
              "      border-radius: 50%;\n",
              "      cursor: pointer;\n",
              "      display: none;\n",
              "      fill: #1967D2;\n",
              "      height: 32px;\n",
              "      padding: 0 0 0 0;\n",
              "      width: 32px;\n",
              "    }\n",
              "\n",
              "    .colab-df-convert:hover {\n",
              "      background-color: #E2EBFA;\n",
              "      box-shadow: 0px 1px 2px rgba(60, 64, 67, 0.3), 0px 1px 3px 1px rgba(60, 64, 67, 0.15);\n",
              "      fill: #174EA6;\n",
              "    }\n",
              "\n",
              "    .colab-df-buttons div {\n",
              "      margin-bottom: 4px;\n",
              "    }\n",
              "\n",
              "    [theme=dark] .colab-df-convert {\n",
              "      background-color: #3B4455;\n",
              "      fill: #D2E3FC;\n",
              "    }\n",
              "\n",
              "    [theme=dark] .colab-df-convert:hover {\n",
              "      background-color: #434B5C;\n",
              "      box-shadow: 0px 1px 3px 1px rgba(0, 0, 0, 0.15);\n",
              "      filter: drop-shadow(0px 1px 2px rgba(0, 0, 0, 0.3));\n",
              "      fill: #FFFFFF;\n",
              "    }\n",
              "  </style>\n",
              "\n",
              "    <script>\n",
              "      const buttonEl =\n",
              "        document.querySelector('#df-e0049d2f-f4b0-40b7-a2a4-b07412d836fe button.colab-df-convert');\n",
              "      buttonEl.style.display =\n",
              "        google.colab.kernel.accessAllowed ? 'block' : 'none';\n",
              "\n",
              "      async function convertToInteractive(key) {\n",
              "        const element = document.querySelector('#df-e0049d2f-f4b0-40b7-a2a4-b07412d836fe');\n",
              "        const dataTable =\n",
              "          await google.colab.kernel.invokeFunction('convertToInteractive',\n",
              "                                                    [key], {});\n",
              "        if (!dataTable) return;\n",
              "\n",
              "        const docLinkHtml = 'Like what you see? Visit the ' +\n",
              "          '<a target=\"_blank\" href=https://colab.research.google.com/notebooks/data_table.ipynb>data table notebook</a>'\n",
              "          + ' to learn more about interactive tables.';\n",
              "        element.innerHTML = '';\n",
              "        dataTable['output_type'] = 'display_data';\n",
              "        await google.colab.output.renderOutput(dataTable, element);\n",
              "        const docLink = document.createElement('div');\n",
              "        docLink.innerHTML = docLinkHtml;\n",
              "        element.appendChild(docLink);\n",
              "      }\n",
              "    </script>\n",
              "  </div>\n",
              "\n",
              "\n",
              "<div id=\"df-10345725-0c76-4d49-bc72-95d758fe68a5\">\n",
              "  <button class=\"colab-df-quickchart\" onclick=\"quickchart('df-10345725-0c76-4d49-bc72-95d758fe68a5')\"\n",
              "            title=\"Suggest charts\"\n",
              "            style=\"display:none;\">\n",
              "\n",
              "<svg xmlns=\"http://www.w3.org/2000/svg\" height=\"24px\"viewBox=\"0 0 24 24\"\n",
              "     width=\"24px\">\n",
              "    <g>\n",
              "        <path d=\"M19 3H5c-1.1 0-2 .9-2 2v14c0 1.1.9 2 2 2h14c1.1 0 2-.9 2-2V5c0-1.1-.9-2-2-2zM9 17H7v-7h2v7zm4 0h-2V7h2v10zm4 0h-2v-4h2v4z\"/>\n",
              "    </g>\n",
              "</svg>\n",
              "  </button>\n",
              "\n",
              "<style>\n",
              "  .colab-df-quickchart {\n",
              "      --bg-color: #E8F0FE;\n",
              "      --fill-color: #1967D2;\n",
              "      --hover-bg-color: #E2EBFA;\n",
              "      --hover-fill-color: #174EA6;\n",
              "      --disabled-fill-color: #AAA;\n",
              "      --disabled-bg-color: #DDD;\n",
              "  }\n",
              "\n",
              "  [theme=dark] .colab-df-quickchart {\n",
              "      --bg-color: #3B4455;\n",
              "      --fill-color: #D2E3FC;\n",
              "      --hover-bg-color: #434B5C;\n",
              "      --hover-fill-color: #FFFFFF;\n",
              "      --disabled-bg-color: #3B4455;\n",
              "      --disabled-fill-color: #666;\n",
              "  }\n",
              "\n",
              "  .colab-df-quickchart {\n",
              "    background-color: var(--bg-color);\n",
              "    border: none;\n",
              "    border-radius: 50%;\n",
              "    cursor: pointer;\n",
              "    display: none;\n",
              "    fill: var(--fill-color);\n",
              "    height: 32px;\n",
              "    padding: 0;\n",
              "    width: 32px;\n",
              "  }\n",
              "\n",
              "  .colab-df-quickchart:hover {\n",
              "    background-color: var(--hover-bg-color);\n",
              "    box-shadow: 0 1px 2px rgba(60, 64, 67, 0.3), 0 1px 3px 1px rgba(60, 64, 67, 0.15);\n",
              "    fill: var(--button-hover-fill-color);\n",
              "  }\n",
              "\n",
              "  .colab-df-quickchart-complete:disabled,\n",
              "  .colab-df-quickchart-complete:disabled:hover {\n",
              "    background-color: var(--disabled-bg-color);\n",
              "    fill: var(--disabled-fill-color);\n",
              "    box-shadow: none;\n",
              "  }\n",
              "\n",
              "  .colab-df-spinner {\n",
              "    border: 2px solid var(--fill-color);\n",
              "    border-color: transparent;\n",
              "    border-bottom-color: var(--fill-color);\n",
              "    animation:\n",
              "      spin 1s steps(1) infinite;\n",
              "  }\n",
              "\n",
              "  @keyframes spin {\n",
              "    0% {\n",
              "      border-color: transparent;\n",
              "      border-bottom-color: var(--fill-color);\n",
              "      border-left-color: var(--fill-color);\n",
              "    }\n",
              "    20% {\n",
              "      border-color: transparent;\n",
              "      border-left-color: var(--fill-color);\n",
              "      border-top-color: var(--fill-color);\n",
              "    }\n",
              "    30% {\n",
              "      border-color: transparent;\n",
              "      border-left-color: var(--fill-color);\n",
              "      border-top-color: var(--fill-color);\n",
              "      border-right-color: var(--fill-color);\n",
              "    }\n",
              "    40% {\n",
              "      border-color: transparent;\n",
              "      border-right-color: var(--fill-color);\n",
              "      border-top-color: var(--fill-color);\n",
              "    }\n",
              "    60% {\n",
              "      border-color: transparent;\n",
              "      border-right-color: var(--fill-color);\n",
              "    }\n",
              "    80% {\n",
              "      border-color: transparent;\n",
              "      border-right-color: var(--fill-color);\n",
              "      border-bottom-color: var(--fill-color);\n",
              "    }\n",
              "    90% {\n",
              "      border-color: transparent;\n",
              "      border-bottom-color: var(--fill-color);\n",
              "    }\n",
              "  }\n",
              "</style>\n",
              "\n",
              "  <script>\n",
              "    async function quickchart(key) {\n",
              "      const quickchartButtonEl =\n",
              "        document.querySelector('#' + key + ' button');\n",
              "      quickchartButtonEl.disabled = true;  // To prevent multiple clicks.\n",
              "      quickchartButtonEl.classList.add('colab-df-spinner');\n",
              "      try {\n",
              "        const charts = await google.colab.kernel.invokeFunction(\n",
              "            'suggestCharts', [key], {});\n",
              "      } catch (error) {\n",
              "        console.error('Error during call to suggestCharts:', error);\n",
              "      }\n",
              "      quickchartButtonEl.classList.remove('colab-df-spinner');\n",
              "      quickchartButtonEl.classList.add('colab-df-quickchart-complete');\n",
              "    }\n",
              "    (() => {\n",
              "      let quickchartButtonEl =\n",
              "        document.querySelector('#df-10345725-0c76-4d49-bc72-95d758fe68a5 button');\n",
              "      quickchartButtonEl.style.display =\n",
              "        google.colab.kernel.accessAllowed ? 'block' : 'none';\n",
              "    })();\n",
              "  </script>\n",
              "</div>\n",
              "\n",
              "    </div>\n",
              "  </div>\n"
            ],
            "application/vnd.google.colaboratory.intrinsic+json": {
              "type": "dataframe",
              "summary": "{\n  \"name\": \"pd\",\n  \"rows\": 17,\n  \"fields\": [\n    {\n      \"column\": \"weight\",\n      \"properties\": {\n        \"dtype\": \"number\",\n        \"std\": 0.11940062086711024,\n        \"min\": 0.0,\n        \"max\": 0.38759882083549446,\n        \"num_unique_values\": 8,\n        \"samples\": [\n          0.3289688427016973,\n          0.38759882083549446,\n          0.0\n        ],\n        \"semantic_type\": \"\",\n        \"description\": \"\"\n      }\n    }\n  ]\n}"
            }
          },
          "metadata": {},
          "execution_count": 52
        }
      ],
      "source": [
        "pd.DataFrame({'weight': stack_lasso.coef_}, index=method_name)"
      ]
    },
    {
      "cell_type": "markdown",
      "metadata": {
        "id": "k-xiPNAXXzEQ"
      },
      "source": [
        "We can calculate the test sample MSE. Though for more unbiased performance evaluation, we should have left out a third sample to validate the performance of the stacked model."
      ]
    },
    {
      "cell_type": "code",
      "execution_count": 53,
      "metadata": {
        "id": "lgwz7wpKXzEQ"
      },
      "outputs": [],
      "source": [
        "mse = np.mean((y_test - stack_lasso.predict(ypreds))**2)\n",
        "r2 = 1 - mse / np.var(y_test)"
      ]
    },
    {
      "cell_type": "code",
      "execution_count": 54,
      "metadata": {
        "id": "nU3_qwX5XzEQ",
        "outputId": "4f7b2fd4-4401-4ba0-8eef-ceb7bea160a4",
        "colab": {
          "base_uri": "https://localhost:8080/"
        }
      },
      "outputs": [
        {
          "output_type": "execute_result",
          "data": {
            "text/plain": [
              "(np.float64(0.22839315889340106), np.float64(0.30282571515483325))"
            ]
          },
          "metadata": {},
          "execution_count": 54
        }
      ],
      "source": [
        "mse, r2"
      ]
    },
    {
      "cell_type": "markdown",
      "metadata": {
        "id": "kGj6WK3mXzEQ"
      },
      "source": [
        "# Redoing it in a more  scikit-learn way"
      ]
    },
    {
      "cell_type": "markdown",
      "metadata": {
        "id": "7tFniD-gXzEQ"
      },
      "source": [
        "We can also do it in a more sklearn way, by defining a formula transformer and corresponding pipelines"
      ]
    },
    {
      "cell_type": "code",
      "execution_count": 55,
      "metadata": {
        "id": "bBKdXAUFXzEQ"
      },
      "outputs": [],
      "source": [
        "from sklearn.base import TransformerMixin, BaseEstimator\n",
        "\n",
        "\n",
        "class FormulaTransformer(TransformerMixin, BaseEstimator):\n",
        "\n",
        "    def __init__(self, formula):\n",
        "        self.formula = formula\n",
        "\n",
        "    def fit(self, X, y=None):\n",
        "        mat = patsy.dmatrix(self.formula, X, return_type='matrix')\n",
        "        self.design_info = mat.design_info\n",
        "        return self\n",
        "\n",
        "    def transform(self, X, y=None):\n",
        "        return patsy.build_design_matrices([self.design_info], X)[0]"
      ]
    },
    {
      "cell_type": "code",
      "execution_count": 56,
      "metadata": {
        "id": "Z43rHDifXzEQ"
      },
      "outputs": [],
      "source": [
        "base = FormulaTransformer('0 + sex + exp1 + shs + hsg+ scl + clg + mw + so + we + C(occ2) + C(ind2)')\n",
        "flex = FormulaTransformer('0 + sex + (exp1+exp2+exp3+exp4)*(shs+hsg+scl+clg+C(occ2)+C(ind2)+mw+so+we)')"
      ]
    },
    {
      "cell_type": "code",
      "execution_count": 57,
      "metadata": {
        "id": "GWE7jPXhXzEQ"
      },
      "outputs": [],
      "source": [
        "methods = [('ols', make_pipeline(base, LinearRegression())),\n",
        "           ('ols_flex', make_pipeline(flex, LinearRegression())),\n",
        "           ('lasso', make_pipeline(base, StandardScaler(), RLasso(post=False))),\n",
        "           ('lasso_flex', make_pipeline(flex, StandardScaler(), RLasso(post=False))),\n",
        "           ('postlasso', make_pipeline(base, StandardScaler(), RLasso(post=True))),\n",
        "           ('postlasso_flex', make_pipeline(flex, StandardScaler(), RLasso(post=True))),\n",
        "           ('lcv', make_pipeline(base, StandardScaler(), LassoCV())),\n",
        "           ('lcv_flex', make_pipeline(flex, StandardScaler(), LassoCV())),\n",
        "           ('rcv', make_pipeline(base, StandardScaler(), RidgeCV())),\n",
        "           ('rcv_flex', make_pipeline(flex, StandardScaler(), RidgeCV())),\n",
        "           ('ecv', make_pipeline(base, StandardScaler(), ElasticNetCV())),\n",
        "           ('ecv_flex', make_pipeline(flex, StandardScaler(), ElasticNetCV())),\n",
        "           ('dtr', make_pipeline(base, DecisionTreeRegressor(ccp_alpha=0.001, min_samples_leaf=5,\n",
        "                                                             random_state=123))),\n",
        "           ('rf', make_pipeline(base, RandomForestRegressor(n_estimators=2000, min_samples_leaf=5,\n",
        "                                                            random_state=123))),\n",
        "           ('gbf', make_pipeline(base, GradientBoostingRegressor(n_estimators=1000, learning_rate=.01,\n",
        "                                                                 subsample=.5, max_depth=2,\n",
        "                                                                 random_state=123))),\n",
        "           ('nnet', make_pipeline(base, MLPRegressor((200, 20,), 'relu',\n",
        "                                                     learning_rate_init=0.01,\n",
        "                                                     batch_size=10, max_iter=10,\n",
        "                                                     random_state=123)))]"
      ]
    },
    {
      "cell_type": "code",
      "execution_count": 58,
      "metadata": {
        "id": "OBz3vtXLXzER",
        "outputId": "963b9c5d-5f18-4ca1-a140-3803766b342e",
        "colab": {
          "base_uri": "https://localhost:8080/"
        }
      },
      "outputs": [
        {
          "output_type": "stream",
          "name": "stdout",
          "text": [
            "0.2341, 0.0167, 0.2853\n",
            "0.2495, 0.0170, 0.2384\n",
            "0.2397, 0.0168, 0.2683\n",
            "0.2396, 0.0166, 0.2686\n",
            "0.2383, 0.0171, 0.2726\n",
            "0.2404, 0.0171, 0.2662\n",
            "0.2339, 0.0167, 0.2859\n",
            "0.2334, 0.0165, 0.2875\n",
            "0.2339, 0.0167, 0.2860\n",
            "0.2394, 0.0164, 0.2693\n",
            "0.2339, 0.0167, 0.2859\n",
            "0.2335, 0.0165, 0.2874\n",
            "0.2592, 0.0157, 0.2088\n",
            "0.2358, 0.0154, 0.2802\n",
            "0.2364, 0.0158, 0.2783\n",
            "0.2829, 0.0188, 0.1365\n"
          ]
        }
      ],
      "source": [
        "train_idx, test_idx = train_test_split(np.arange(len(y)), test_size=0.25, random_state=123)\n",
        "\n",
        "results = {}\n",
        "ypreds = np.zeros((len(test_idx), len(methods)))  # test predictions used for stacking\n",
        "\n",
        "for it, (name, estimator) in enumerate(methods):\n",
        "    estimator.fit(Z.iloc[train_idx], y[train_idx])\n",
        "    results[name] = metrics(Z.iloc[test_idx], y[test_idx], estimator)\n",
        "    ypreds[:, it] = estimator.predict(Z.iloc[test_idx])"
      ]
    },
    {
      "cell_type": "code",
      "execution_count": 59,
      "metadata": {
        "id": "ytZaqT1DXzER",
        "outputId": "8603664f-5f54-4d84-9d80-3fb075302a31",
        "colab": {
          "base_uri": "https://localhost:8080/",
          "height": 551
        }
      },
      "outputs": [
        {
          "output_type": "execute_result",
          "data": {
            "text/plain": [
              "                     MSE  S.E. MSE     $R^2$\n",
              "ols             0.234149  0.016693  0.285256\n",
              "ols_flex        0.249514  0.016967  0.238353\n",
              "lasso           0.239700  0.016754  0.268310\n",
              "lasso_flex      0.239614  0.016641  0.268572\n",
              "postlasso       0.238308  0.017097  0.272561\n",
              "postlasso_flex  0.240389  0.017102  0.266208\n",
              "lcv             0.233948  0.016682  0.285869\n",
              "lcv_flex        0.233430  0.016549  0.287452\n",
              "rcv             0.233912  0.016674  0.285980\n",
              "rcv_flex        0.239389  0.016365  0.269260\n",
              "ecv             0.233937  0.016681  0.285904\n",
              "ecv_flex        0.233455  0.016523  0.287375\n",
              "dtr             0.259211  0.015724  0.208753\n",
              "rf              0.235796  0.015426  0.280228\n",
              "gbf             0.236431  0.015821  0.278291\n",
              "nnet            0.282895  0.018845  0.136459"
            ],
            "text/html": [
              "\n",
              "  <div id=\"df-6cc8f2e9-e2d2-4bcf-aa92-a14ab446277a\" class=\"colab-df-container\">\n",
              "    <div>\n",
              "<style scoped>\n",
              "    .dataframe tbody tr th:only-of-type {\n",
              "        vertical-align: middle;\n",
              "    }\n",
              "\n",
              "    .dataframe tbody tr th {\n",
              "        vertical-align: top;\n",
              "    }\n",
              "\n",
              "    .dataframe thead th {\n",
              "        text-align: right;\n",
              "    }\n",
              "</style>\n",
              "<table border=\"1\" class=\"dataframe\">\n",
              "  <thead>\n",
              "    <tr style=\"text-align: right;\">\n",
              "      <th></th>\n",
              "      <th>MSE</th>\n",
              "      <th>S.E. MSE</th>\n",
              "      <th>$R^2$</th>\n",
              "    </tr>\n",
              "  </thead>\n",
              "  <tbody>\n",
              "    <tr>\n",
              "      <th>ols</th>\n",
              "      <td>0.234149</td>\n",
              "      <td>0.016693</td>\n",
              "      <td>0.285256</td>\n",
              "    </tr>\n",
              "    <tr>\n",
              "      <th>ols_flex</th>\n",
              "      <td>0.249514</td>\n",
              "      <td>0.016967</td>\n",
              "      <td>0.238353</td>\n",
              "    </tr>\n",
              "    <tr>\n",
              "      <th>lasso</th>\n",
              "      <td>0.239700</td>\n",
              "      <td>0.016754</td>\n",
              "      <td>0.268310</td>\n",
              "    </tr>\n",
              "    <tr>\n",
              "      <th>lasso_flex</th>\n",
              "      <td>0.239614</td>\n",
              "      <td>0.016641</td>\n",
              "      <td>0.268572</td>\n",
              "    </tr>\n",
              "    <tr>\n",
              "      <th>postlasso</th>\n",
              "      <td>0.238308</td>\n",
              "      <td>0.017097</td>\n",
              "      <td>0.272561</td>\n",
              "    </tr>\n",
              "    <tr>\n",
              "      <th>postlasso_flex</th>\n",
              "      <td>0.240389</td>\n",
              "      <td>0.017102</td>\n",
              "      <td>0.266208</td>\n",
              "    </tr>\n",
              "    <tr>\n",
              "      <th>lcv</th>\n",
              "      <td>0.233948</td>\n",
              "      <td>0.016682</td>\n",
              "      <td>0.285869</td>\n",
              "    </tr>\n",
              "    <tr>\n",
              "      <th>lcv_flex</th>\n",
              "      <td>0.233430</td>\n",
              "      <td>0.016549</td>\n",
              "      <td>0.287452</td>\n",
              "    </tr>\n",
              "    <tr>\n",
              "      <th>rcv</th>\n",
              "      <td>0.233912</td>\n",
              "      <td>0.016674</td>\n",
              "      <td>0.285980</td>\n",
              "    </tr>\n",
              "    <tr>\n",
              "      <th>rcv_flex</th>\n",
              "      <td>0.239389</td>\n",
              "      <td>0.016365</td>\n",
              "      <td>0.269260</td>\n",
              "    </tr>\n",
              "    <tr>\n",
              "      <th>ecv</th>\n",
              "      <td>0.233937</td>\n",
              "      <td>0.016681</td>\n",
              "      <td>0.285904</td>\n",
              "    </tr>\n",
              "    <tr>\n",
              "      <th>ecv_flex</th>\n",
              "      <td>0.233455</td>\n",
              "      <td>0.016523</td>\n",
              "      <td>0.287375</td>\n",
              "    </tr>\n",
              "    <tr>\n",
              "      <th>dtr</th>\n",
              "      <td>0.259211</td>\n",
              "      <td>0.015724</td>\n",
              "      <td>0.208753</td>\n",
              "    </tr>\n",
              "    <tr>\n",
              "      <th>rf</th>\n",
              "      <td>0.235796</td>\n",
              "      <td>0.015426</td>\n",
              "      <td>0.280228</td>\n",
              "    </tr>\n",
              "    <tr>\n",
              "      <th>gbf</th>\n",
              "      <td>0.236431</td>\n",
              "      <td>0.015821</td>\n",
              "      <td>0.278291</td>\n",
              "    </tr>\n",
              "    <tr>\n",
              "      <th>nnet</th>\n",
              "      <td>0.282895</td>\n",
              "      <td>0.018845</td>\n",
              "      <td>0.136459</td>\n",
              "    </tr>\n",
              "  </tbody>\n",
              "</table>\n",
              "</div>\n",
              "    <div class=\"colab-df-buttons\">\n",
              "\n",
              "  <div class=\"colab-df-container\">\n",
              "    <button class=\"colab-df-convert\" onclick=\"convertToInteractive('df-6cc8f2e9-e2d2-4bcf-aa92-a14ab446277a')\"\n",
              "            title=\"Convert this dataframe to an interactive table.\"\n",
              "            style=\"display:none;\">\n",
              "\n",
              "  <svg xmlns=\"http://www.w3.org/2000/svg\" height=\"24px\" viewBox=\"0 -960 960 960\">\n",
              "    <path d=\"M120-120v-720h720v720H120Zm60-500h600v-160H180v160Zm220 220h160v-160H400v160Zm0 220h160v-160H400v160ZM180-400h160v-160H180v160Zm440 0h160v-160H620v160ZM180-180h160v-160H180v160Zm440 0h160v-160H620v160Z\"/>\n",
              "  </svg>\n",
              "    </button>\n",
              "\n",
              "  <style>\n",
              "    .colab-df-container {\n",
              "      display:flex;\n",
              "      gap: 12px;\n",
              "    }\n",
              "\n",
              "    .colab-df-convert {\n",
              "      background-color: #E8F0FE;\n",
              "      border: none;\n",
              "      border-radius: 50%;\n",
              "      cursor: pointer;\n",
              "      display: none;\n",
              "      fill: #1967D2;\n",
              "      height: 32px;\n",
              "      padding: 0 0 0 0;\n",
              "      width: 32px;\n",
              "    }\n",
              "\n",
              "    .colab-df-convert:hover {\n",
              "      background-color: #E2EBFA;\n",
              "      box-shadow: 0px 1px 2px rgba(60, 64, 67, 0.3), 0px 1px 3px 1px rgba(60, 64, 67, 0.15);\n",
              "      fill: #174EA6;\n",
              "    }\n",
              "\n",
              "    .colab-df-buttons div {\n",
              "      margin-bottom: 4px;\n",
              "    }\n",
              "\n",
              "    [theme=dark] .colab-df-convert {\n",
              "      background-color: #3B4455;\n",
              "      fill: #D2E3FC;\n",
              "    }\n",
              "\n",
              "    [theme=dark] .colab-df-convert:hover {\n",
              "      background-color: #434B5C;\n",
              "      box-shadow: 0px 1px 3px 1px rgba(0, 0, 0, 0.15);\n",
              "      filter: drop-shadow(0px 1px 2px rgba(0, 0, 0, 0.3));\n",
              "      fill: #FFFFFF;\n",
              "    }\n",
              "  </style>\n",
              "\n",
              "    <script>\n",
              "      const buttonEl =\n",
              "        document.querySelector('#df-6cc8f2e9-e2d2-4bcf-aa92-a14ab446277a button.colab-df-convert');\n",
              "      buttonEl.style.display =\n",
              "        google.colab.kernel.accessAllowed ? 'block' : 'none';\n",
              "\n",
              "      async function convertToInteractive(key) {\n",
              "        const element = document.querySelector('#df-6cc8f2e9-e2d2-4bcf-aa92-a14ab446277a');\n",
              "        const dataTable =\n",
              "          await google.colab.kernel.invokeFunction('convertToInteractive',\n",
              "                                                    [key], {});\n",
              "        if (!dataTable) return;\n",
              "\n",
              "        const docLinkHtml = 'Like what you see? Visit the ' +\n",
              "          '<a target=\"_blank\" href=https://colab.research.google.com/notebooks/data_table.ipynb>data table notebook</a>'\n",
              "          + ' to learn more about interactive tables.';\n",
              "        element.innerHTML = '';\n",
              "        dataTable['output_type'] = 'display_data';\n",
              "        await google.colab.output.renderOutput(dataTable, element);\n",
              "        const docLink = document.createElement('div');\n",
              "        docLink.innerHTML = docLinkHtml;\n",
              "        element.appendChild(docLink);\n",
              "      }\n",
              "    </script>\n",
              "  </div>\n",
              "\n",
              "\n",
              "<div id=\"df-f088cc47-f67b-4f9a-9efb-c8f0039e4906\">\n",
              "  <button class=\"colab-df-quickchart\" onclick=\"quickchart('df-f088cc47-f67b-4f9a-9efb-c8f0039e4906')\"\n",
              "            title=\"Suggest charts\"\n",
              "            style=\"display:none;\">\n",
              "\n",
              "<svg xmlns=\"http://www.w3.org/2000/svg\" height=\"24px\"viewBox=\"0 0 24 24\"\n",
              "     width=\"24px\">\n",
              "    <g>\n",
              "        <path d=\"M19 3H5c-1.1 0-2 .9-2 2v14c0 1.1.9 2 2 2h14c1.1 0 2-.9 2-2V5c0-1.1-.9-2-2-2zM9 17H7v-7h2v7zm4 0h-2V7h2v10zm4 0h-2v-4h2v4z\"/>\n",
              "    </g>\n",
              "</svg>\n",
              "  </button>\n",
              "\n",
              "<style>\n",
              "  .colab-df-quickchart {\n",
              "      --bg-color: #E8F0FE;\n",
              "      --fill-color: #1967D2;\n",
              "      --hover-bg-color: #E2EBFA;\n",
              "      --hover-fill-color: #174EA6;\n",
              "      --disabled-fill-color: #AAA;\n",
              "      --disabled-bg-color: #DDD;\n",
              "  }\n",
              "\n",
              "  [theme=dark] .colab-df-quickchart {\n",
              "      --bg-color: #3B4455;\n",
              "      --fill-color: #D2E3FC;\n",
              "      --hover-bg-color: #434B5C;\n",
              "      --hover-fill-color: #FFFFFF;\n",
              "      --disabled-bg-color: #3B4455;\n",
              "      --disabled-fill-color: #666;\n",
              "  }\n",
              "\n",
              "  .colab-df-quickchart {\n",
              "    background-color: var(--bg-color);\n",
              "    border: none;\n",
              "    border-radius: 50%;\n",
              "    cursor: pointer;\n",
              "    display: none;\n",
              "    fill: var(--fill-color);\n",
              "    height: 32px;\n",
              "    padding: 0;\n",
              "    width: 32px;\n",
              "  }\n",
              "\n",
              "  .colab-df-quickchart:hover {\n",
              "    background-color: var(--hover-bg-color);\n",
              "    box-shadow: 0 1px 2px rgba(60, 64, 67, 0.3), 0 1px 3px 1px rgba(60, 64, 67, 0.15);\n",
              "    fill: var(--button-hover-fill-color);\n",
              "  }\n",
              "\n",
              "  .colab-df-quickchart-complete:disabled,\n",
              "  .colab-df-quickchart-complete:disabled:hover {\n",
              "    background-color: var(--disabled-bg-color);\n",
              "    fill: var(--disabled-fill-color);\n",
              "    box-shadow: none;\n",
              "  }\n",
              "\n",
              "  .colab-df-spinner {\n",
              "    border: 2px solid var(--fill-color);\n",
              "    border-color: transparent;\n",
              "    border-bottom-color: var(--fill-color);\n",
              "    animation:\n",
              "      spin 1s steps(1) infinite;\n",
              "  }\n",
              "\n",
              "  @keyframes spin {\n",
              "    0% {\n",
              "      border-color: transparent;\n",
              "      border-bottom-color: var(--fill-color);\n",
              "      border-left-color: var(--fill-color);\n",
              "    }\n",
              "    20% {\n",
              "      border-color: transparent;\n",
              "      border-left-color: var(--fill-color);\n",
              "      border-top-color: var(--fill-color);\n",
              "    }\n",
              "    30% {\n",
              "      border-color: transparent;\n",
              "      border-left-color: var(--fill-color);\n",
              "      border-top-color: var(--fill-color);\n",
              "      border-right-color: var(--fill-color);\n",
              "    }\n",
              "    40% {\n",
              "      border-color: transparent;\n",
              "      border-right-color: var(--fill-color);\n",
              "      border-top-color: var(--fill-color);\n",
              "    }\n",
              "    60% {\n",
              "      border-color: transparent;\n",
              "      border-right-color: var(--fill-color);\n",
              "    }\n",
              "    80% {\n",
              "      border-color: transparent;\n",
              "      border-right-color: var(--fill-color);\n",
              "      border-bottom-color: var(--fill-color);\n",
              "    }\n",
              "    90% {\n",
              "      border-color: transparent;\n",
              "      border-bottom-color: var(--fill-color);\n",
              "    }\n",
              "  }\n",
              "</style>\n",
              "\n",
              "  <script>\n",
              "    async function quickchart(key) {\n",
              "      const quickchartButtonEl =\n",
              "        document.querySelector('#' + key + ' button');\n",
              "      quickchartButtonEl.disabled = true;  // To prevent multiple clicks.\n",
              "      quickchartButtonEl.classList.add('colab-df-spinner');\n",
              "      try {\n",
              "        const charts = await google.colab.kernel.invokeFunction(\n",
              "            'suggestCharts', [key], {});\n",
              "      } catch (error) {\n",
              "        console.error('Error during call to suggestCharts:', error);\n",
              "      }\n",
              "      quickchartButtonEl.classList.remove('colab-df-spinner');\n",
              "      quickchartButtonEl.classList.add('colab-df-quickchart-complete');\n",
              "    }\n",
              "    (() => {\n",
              "      let quickchartButtonEl =\n",
              "        document.querySelector('#df-f088cc47-f67b-4f9a-9efb-c8f0039e4906 button');\n",
              "      quickchartButtonEl.style.display =\n",
              "        google.colab.kernel.accessAllowed ? 'block' : 'none';\n",
              "    })();\n",
              "  </script>\n",
              "</div>\n",
              "\n",
              "  <div id=\"id_88da08ad-b34c-450c-868a-ed442e424384\">\n",
              "    <style>\n",
              "      .colab-df-generate {\n",
              "        background-color: #E8F0FE;\n",
              "        border: none;\n",
              "        border-radius: 50%;\n",
              "        cursor: pointer;\n",
              "        display: none;\n",
              "        fill: #1967D2;\n",
              "        height: 32px;\n",
              "        padding: 0 0 0 0;\n",
              "        width: 32px;\n",
              "      }\n",
              "\n",
              "      .colab-df-generate:hover {\n",
              "        background-color: #E2EBFA;\n",
              "        box-shadow: 0px 1px 2px rgba(60, 64, 67, 0.3), 0px 1px 3px 1px rgba(60, 64, 67, 0.15);\n",
              "        fill: #174EA6;\n",
              "      }\n",
              "\n",
              "      [theme=dark] .colab-df-generate {\n",
              "        background-color: #3B4455;\n",
              "        fill: #D2E3FC;\n",
              "      }\n",
              "\n",
              "      [theme=dark] .colab-df-generate:hover {\n",
              "        background-color: #434B5C;\n",
              "        box-shadow: 0px 1px 3px 1px rgba(0, 0, 0, 0.15);\n",
              "        filter: drop-shadow(0px 1px 2px rgba(0, 0, 0, 0.3));\n",
              "        fill: #FFFFFF;\n",
              "      }\n",
              "    </style>\n",
              "    <button class=\"colab-df-generate\" onclick=\"generateWithVariable('df')\"\n",
              "            title=\"Generate code using this dataframe.\"\n",
              "            style=\"display:none;\">\n",
              "\n",
              "  <svg xmlns=\"http://www.w3.org/2000/svg\" height=\"24px\"viewBox=\"0 0 24 24\"\n",
              "       width=\"24px\">\n",
              "    <path d=\"M7,19H8.4L18.45,9,17,7.55,7,17.6ZM5,21V16.75L18.45,3.32a2,2,0,0,1,2.83,0l1.4,1.43a1.91,1.91,0,0,1,.58,1.4,1.91,1.91,0,0,1-.58,1.4L9.25,21ZM18.45,9,17,7.55Zm-12,3A5.31,5.31,0,0,0,4.9,8.1,5.31,5.31,0,0,0,1,6.5,5.31,5.31,0,0,0,4.9,4.9,5.31,5.31,0,0,0,6.5,1,5.31,5.31,0,0,0,8.1,4.9,5.31,5.31,0,0,0,12,6.5,5.46,5.46,0,0,0,6.5,12Z\"/>\n",
              "  </svg>\n",
              "    </button>\n",
              "    <script>\n",
              "      (() => {\n",
              "      const buttonEl =\n",
              "        document.querySelector('#id_88da08ad-b34c-450c-868a-ed442e424384 button.colab-df-generate');\n",
              "      buttonEl.style.display =\n",
              "        google.colab.kernel.accessAllowed ? 'block' : 'none';\n",
              "\n",
              "      buttonEl.onclick = () => {\n",
              "        google.colab.notebook.generateWithVariable('df');\n",
              "      }\n",
              "      })();\n",
              "    </script>\n",
              "  </div>\n",
              "\n",
              "    </div>\n",
              "  </div>\n"
            ],
            "application/vnd.google.colaboratory.intrinsic+json": {
              "type": "dataframe",
              "variable_name": "df",
              "summary": "{\n  \"name\": \"df\",\n  \"rows\": 16,\n  \"fields\": [\n    {\n      \"column\": \"MSE\",\n      \"properties\": {\n        \"dtype\": \"number\",\n        \"std\": 0.012982143413272397,\n        \"min\": 0.2334296372904738,\n        \"max\": 0.28289463417454097,\n        \"num_unique_values\": 16,\n        \"samples\": [\n          0.23414882563556566,\n          0.24951425398779972,\n          0.24038900253408144\n        ],\n        \"semantic_type\": \"\",\n        \"description\": \"\"\n      }\n    },\n    {\n      \"column\": \"S.E. MSE\",\n      \"properties\": {\n        \"dtype\": \"number\",\n        \"std\": 0.000752170631050162,\n        \"min\": 0.015425956123459542,\n        \"max\": 0.01884486603080188,\n        \"num_unique_values\": 16,\n        \"samples\": [\n          0.01669285525911165,\n          0.01696713954906244,\n          0.017102491547167104\n        ],\n        \"semantic_type\": \"\",\n        \"description\": \"\"\n      }\n    },\n    {\n      \"column\": \"$R^2$\",\n      \"properties\": {\n        \"dtype\": \"number\",\n        \"std\": 0.039628229644697456,\n        \"min\": 0.13645896741056407,\n        \"max\": 0.287451772950828,\n        \"num_unique_values\": 16,\n        \"samples\": [\n          0.285256437404931,\n          0.23835318699799446,\n          0.26620818356226406\n        ],\n        \"semantic_type\": \"\",\n        \"description\": \"\"\n      }\n    }\n  ]\n}"
            }
          },
          "metadata": {},
          "execution_count": 59
        }
      ],
      "source": [
        "df = pd.DataFrame(results).T\n",
        "df.columns = ['MSE', 'S.E. MSE', '$R^2$']\n",
        "df"
      ]
    },
    {
      "cell_type": "code",
      "execution_count": 60,
      "metadata": {
        "id": "TzQE9juDXzER"
      },
      "outputs": [],
      "source": [
        "stack_lasso = RLasso(post=False).fit(ypreds, y[test_idx])"
      ]
    },
    {
      "cell_type": "code",
      "execution_count": 61,
      "metadata": {
        "id": "BdUXLQOcXzER",
        "outputId": "e0ecc538-fc5c-4c38-84c8-ea70505beecb",
        "colab": {
          "base_uri": "https://localhost:8080/",
          "height": 551
        }
      },
      "outputs": [
        {
          "output_type": "execute_result",
          "data": {
            "text/plain": [
              "                  weight\n",
              "ols             0.000000\n",
              "ols_flex        0.000000\n",
              "lasso           0.000000\n",
              "lasso_flex      0.000000\n",
              "postlasso       0.000000\n",
              "postlasso_flex  0.000000\n",
              "lcv             0.050647\n",
              "lcv_flex        0.009100\n",
              "rcv             0.291027\n",
              "rcv_flex        0.062502\n",
              "ecv             0.000000\n",
              "ecv_flex        0.116749\n",
              "dtr             0.000000\n",
              "rf              0.393538\n",
              "gbf             0.000000\n",
              "nnet            0.024016"
            ],
            "text/html": [
              "\n",
              "  <div id=\"df-8dbe2767-c881-46b2-bbff-d7fedc25931b\" class=\"colab-df-container\">\n",
              "    <div>\n",
              "<style scoped>\n",
              "    .dataframe tbody tr th:only-of-type {\n",
              "        vertical-align: middle;\n",
              "    }\n",
              "\n",
              "    .dataframe tbody tr th {\n",
              "        vertical-align: top;\n",
              "    }\n",
              "\n",
              "    .dataframe thead th {\n",
              "        text-align: right;\n",
              "    }\n",
              "</style>\n",
              "<table border=\"1\" class=\"dataframe\">\n",
              "  <thead>\n",
              "    <tr style=\"text-align: right;\">\n",
              "      <th></th>\n",
              "      <th>weight</th>\n",
              "    </tr>\n",
              "  </thead>\n",
              "  <tbody>\n",
              "    <tr>\n",
              "      <th>ols</th>\n",
              "      <td>0.000000</td>\n",
              "    </tr>\n",
              "    <tr>\n",
              "      <th>ols_flex</th>\n",
              "      <td>0.000000</td>\n",
              "    </tr>\n",
              "    <tr>\n",
              "      <th>lasso</th>\n",
              "      <td>0.000000</td>\n",
              "    </tr>\n",
              "    <tr>\n",
              "      <th>lasso_flex</th>\n",
              "      <td>0.000000</td>\n",
              "    </tr>\n",
              "    <tr>\n",
              "      <th>postlasso</th>\n",
              "      <td>0.000000</td>\n",
              "    </tr>\n",
              "    <tr>\n",
              "      <th>postlasso_flex</th>\n",
              "      <td>0.000000</td>\n",
              "    </tr>\n",
              "    <tr>\n",
              "      <th>lcv</th>\n",
              "      <td>0.050647</td>\n",
              "    </tr>\n",
              "    <tr>\n",
              "      <th>lcv_flex</th>\n",
              "      <td>0.009100</td>\n",
              "    </tr>\n",
              "    <tr>\n",
              "      <th>rcv</th>\n",
              "      <td>0.291027</td>\n",
              "    </tr>\n",
              "    <tr>\n",
              "      <th>rcv_flex</th>\n",
              "      <td>0.062502</td>\n",
              "    </tr>\n",
              "    <tr>\n",
              "      <th>ecv</th>\n",
              "      <td>0.000000</td>\n",
              "    </tr>\n",
              "    <tr>\n",
              "      <th>ecv_flex</th>\n",
              "      <td>0.116749</td>\n",
              "    </tr>\n",
              "    <tr>\n",
              "      <th>dtr</th>\n",
              "      <td>0.000000</td>\n",
              "    </tr>\n",
              "    <tr>\n",
              "      <th>rf</th>\n",
              "      <td>0.393538</td>\n",
              "    </tr>\n",
              "    <tr>\n",
              "      <th>gbf</th>\n",
              "      <td>0.000000</td>\n",
              "    </tr>\n",
              "    <tr>\n",
              "      <th>nnet</th>\n",
              "      <td>0.024016</td>\n",
              "    </tr>\n",
              "  </tbody>\n",
              "</table>\n",
              "</div>\n",
              "    <div class=\"colab-df-buttons\">\n",
              "\n",
              "  <div class=\"colab-df-container\">\n",
              "    <button class=\"colab-df-convert\" onclick=\"convertToInteractive('df-8dbe2767-c881-46b2-bbff-d7fedc25931b')\"\n",
              "            title=\"Convert this dataframe to an interactive table.\"\n",
              "            style=\"display:none;\">\n",
              "\n",
              "  <svg xmlns=\"http://www.w3.org/2000/svg\" height=\"24px\" viewBox=\"0 -960 960 960\">\n",
              "    <path d=\"M120-120v-720h720v720H120Zm60-500h600v-160H180v160Zm220 220h160v-160H400v160Zm0 220h160v-160H400v160ZM180-400h160v-160H180v160Zm440 0h160v-160H620v160ZM180-180h160v-160H180v160Zm440 0h160v-160H620v160Z\"/>\n",
              "  </svg>\n",
              "    </button>\n",
              "\n",
              "  <style>\n",
              "    .colab-df-container {\n",
              "      display:flex;\n",
              "      gap: 12px;\n",
              "    }\n",
              "\n",
              "    .colab-df-convert {\n",
              "      background-color: #E8F0FE;\n",
              "      border: none;\n",
              "      border-radius: 50%;\n",
              "      cursor: pointer;\n",
              "      display: none;\n",
              "      fill: #1967D2;\n",
              "      height: 32px;\n",
              "      padding: 0 0 0 0;\n",
              "      width: 32px;\n",
              "    }\n",
              "\n",
              "    .colab-df-convert:hover {\n",
              "      background-color: #E2EBFA;\n",
              "      box-shadow: 0px 1px 2px rgba(60, 64, 67, 0.3), 0px 1px 3px 1px rgba(60, 64, 67, 0.15);\n",
              "      fill: #174EA6;\n",
              "    }\n",
              "\n",
              "    .colab-df-buttons div {\n",
              "      margin-bottom: 4px;\n",
              "    }\n",
              "\n",
              "    [theme=dark] .colab-df-convert {\n",
              "      background-color: #3B4455;\n",
              "      fill: #D2E3FC;\n",
              "    }\n",
              "\n",
              "    [theme=dark] .colab-df-convert:hover {\n",
              "      background-color: #434B5C;\n",
              "      box-shadow: 0px 1px 3px 1px rgba(0, 0, 0, 0.15);\n",
              "      filter: drop-shadow(0px 1px 2px rgba(0, 0, 0, 0.3));\n",
              "      fill: #FFFFFF;\n",
              "    }\n",
              "  </style>\n",
              "\n",
              "    <script>\n",
              "      const buttonEl =\n",
              "        document.querySelector('#df-8dbe2767-c881-46b2-bbff-d7fedc25931b button.colab-df-convert');\n",
              "      buttonEl.style.display =\n",
              "        google.colab.kernel.accessAllowed ? 'block' : 'none';\n",
              "\n",
              "      async function convertToInteractive(key) {\n",
              "        const element = document.querySelector('#df-8dbe2767-c881-46b2-bbff-d7fedc25931b');\n",
              "        const dataTable =\n",
              "          await google.colab.kernel.invokeFunction('convertToInteractive',\n",
              "                                                    [key], {});\n",
              "        if (!dataTable) return;\n",
              "\n",
              "        const docLinkHtml = 'Like what you see? Visit the ' +\n",
              "          '<a target=\"_blank\" href=https://colab.research.google.com/notebooks/data_table.ipynb>data table notebook</a>'\n",
              "          + ' to learn more about interactive tables.';\n",
              "        element.innerHTML = '';\n",
              "        dataTable['output_type'] = 'display_data';\n",
              "        await google.colab.output.renderOutput(dataTable, element);\n",
              "        const docLink = document.createElement('div');\n",
              "        docLink.innerHTML = docLinkHtml;\n",
              "        element.appendChild(docLink);\n",
              "      }\n",
              "    </script>\n",
              "  </div>\n",
              "\n",
              "\n",
              "<div id=\"df-eab16c78-5b13-4c86-baf4-346289f3f8c2\">\n",
              "  <button class=\"colab-df-quickchart\" onclick=\"quickchart('df-eab16c78-5b13-4c86-baf4-346289f3f8c2')\"\n",
              "            title=\"Suggest charts\"\n",
              "            style=\"display:none;\">\n",
              "\n",
              "<svg xmlns=\"http://www.w3.org/2000/svg\" height=\"24px\"viewBox=\"0 0 24 24\"\n",
              "     width=\"24px\">\n",
              "    <g>\n",
              "        <path d=\"M19 3H5c-1.1 0-2 .9-2 2v14c0 1.1.9 2 2 2h14c1.1 0 2-.9 2-2V5c0-1.1-.9-2-2-2zM9 17H7v-7h2v7zm4 0h-2V7h2v10zm4 0h-2v-4h2v4z\"/>\n",
              "    </g>\n",
              "</svg>\n",
              "  </button>\n",
              "\n",
              "<style>\n",
              "  .colab-df-quickchart {\n",
              "      --bg-color: #E8F0FE;\n",
              "      --fill-color: #1967D2;\n",
              "      --hover-bg-color: #E2EBFA;\n",
              "      --hover-fill-color: #174EA6;\n",
              "      --disabled-fill-color: #AAA;\n",
              "      --disabled-bg-color: #DDD;\n",
              "  }\n",
              "\n",
              "  [theme=dark] .colab-df-quickchart {\n",
              "      --bg-color: #3B4455;\n",
              "      --fill-color: #D2E3FC;\n",
              "      --hover-bg-color: #434B5C;\n",
              "      --hover-fill-color: #FFFFFF;\n",
              "      --disabled-bg-color: #3B4455;\n",
              "      --disabled-fill-color: #666;\n",
              "  }\n",
              "\n",
              "  .colab-df-quickchart {\n",
              "    background-color: var(--bg-color);\n",
              "    border: none;\n",
              "    border-radius: 50%;\n",
              "    cursor: pointer;\n",
              "    display: none;\n",
              "    fill: var(--fill-color);\n",
              "    height: 32px;\n",
              "    padding: 0;\n",
              "    width: 32px;\n",
              "  }\n",
              "\n",
              "  .colab-df-quickchart:hover {\n",
              "    background-color: var(--hover-bg-color);\n",
              "    box-shadow: 0 1px 2px rgba(60, 64, 67, 0.3), 0 1px 3px 1px rgba(60, 64, 67, 0.15);\n",
              "    fill: var(--button-hover-fill-color);\n",
              "  }\n",
              "\n",
              "  .colab-df-quickchart-complete:disabled,\n",
              "  .colab-df-quickchart-complete:disabled:hover {\n",
              "    background-color: var(--disabled-bg-color);\n",
              "    fill: var(--disabled-fill-color);\n",
              "    box-shadow: none;\n",
              "  }\n",
              "\n",
              "  .colab-df-spinner {\n",
              "    border: 2px solid var(--fill-color);\n",
              "    border-color: transparent;\n",
              "    border-bottom-color: var(--fill-color);\n",
              "    animation:\n",
              "      spin 1s steps(1) infinite;\n",
              "  }\n",
              "\n",
              "  @keyframes spin {\n",
              "    0% {\n",
              "      border-color: transparent;\n",
              "      border-bottom-color: var(--fill-color);\n",
              "      border-left-color: var(--fill-color);\n",
              "    }\n",
              "    20% {\n",
              "      border-color: transparent;\n",
              "      border-left-color: var(--fill-color);\n",
              "      border-top-color: var(--fill-color);\n",
              "    }\n",
              "    30% {\n",
              "      border-color: transparent;\n",
              "      border-left-color: var(--fill-color);\n",
              "      border-top-color: var(--fill-color);\n",
              "      border-right-color: var(--fill-color);\n",
              "    }\n",
              "    40% {\n",
              "      border-color: transparent;\n",
              "      border-right-color: var(--fill-color);\n",
              "      border-top-color: var(--fill-color);\n",
              "    }\n",
              "    60% {\n",
              "      border-color: transparent;\n",
              "      border-right-color: var(--fill-color);\n",
              "    }\n",
              "    80% {\n",
              "      border-color: transparent;\n",
              "      border-right-color: var(--fill-color);\n",
              "      border-bottom-color: var(--fill-color);\n",
              "    }\n",
              "    90% {\n",
              "      border-color: transparent;\n",
              "      border-bottom-color: var(--fill-color);\n",
              "    }\n",
              "  }\n",
              "</style>\n",
              "\n",
              "  <script>\n",
              "    async function quickchart(key) {\n",
              "      const quickchartButtonEl =\n",
              "        document.querySelector('#' + key + ' button');\n",
              "      quickchartButtonEl.disabled = true;  // To prevent multiple clicks.\n",
              "      quickchartButtonEl.classList.add('colab-df-spinner');\n",
              "      try {\n",
              "        const charts = await google.colab.kernel.invokeFunction(\n",
              "            'suggestCharts', [key], {});\n",
              "      } catch (error) {\n",
              "        console.error('Error during call to suggestCharts:', error);\n",
              "      }\n",
              "      quickchartButtonEl.classList.remove('colab-df-spinner');\n",
              "      quickchartButtonEl.classList.add('colab-df-quickchart-complete');\n",
              "    }\n",
              "    (() => {\n",
              "      let quickchartButtonEl =\n",
              "        document.querySelector('#df-eab16c78-5b13-4c86-baf4-346289f3f8c2 button');\n",
              "      quickchartButtonEl.style.display =\n",
              "        google.colab.kernel.accessAllowed ? 'block' : 'none';\n",
              "    })();\n",
              "  </script>\n",
              "</div>\n",
              "\n",
              "    </div>\n",
              "  </div>\n"
            ],
            "application/vnd.google.colaboratory.intrinsic+json": {
              "type": "dataframe",
              "summary": "{\n  \"name\": \"pd\",\n  \"rows\": 16,\n  \"fields\": [\n    {\n      \"column\": \"weight\",\n      \"properties\": {\n        \"dtype\": \"number\",\n        \"std\": 0.11667935659988961,\n        \"min\": 0.0,\n        \"max\": 0.3935379269155452,\n        \"num_unique_values\": 8,\n        \"samples\": [\n          0.05064657982695064,\n          0.11674932789180766,\n          0.0\n        ],\n        \"semantic_type\": \"\",\n        \"description\": \"\"\n      }\n    }\n  ]\n}"
            }
          },
          "metadata": {},
          "execution_count": 61
        }
      ],
      "source": [
        "pd.DataFrame({'weight': stack_lasso.coef_}, index=[name for name, _ in methods])"
      ]
    },
    {
      "cell_type": "markdown",
      "metadata": {
        "id": "GNHsG4trXzER"
      },
      "source": [
        "For a more unbiased performance evaluation we should have left a further evaluation sample that was not used for the stacking weights"
      ]
    },
    {
      "cell_type": "code",
      "execution_count": 62,
      "metadata": {
        "id": "-F6bq9oAXzER"
      },
      "outputs": [],
      "source": [
        "mse = np.mean((y_test - stack_lasso.predict(ypreds))**2)\n",
        "r2 = 1 - mse / np.var(y_test)"
      ]
    },
    {
      "cell_type": "code",
      "execution_count": 63,
      "metadata": {
        "id": "XJiaFjitXzER",
        "outputId": "250563c6-a711-4071-a84d-81f98b1036d6",
        "colab": {
          "base_uri": "https://localhost:8080/"
        }
      },
      "outputs": [
        {
          "output_type": "execute_result",
          "data": {
            "text/plain": [
              "(np.float64(0.22844530407886532), np.float64(0.30266654102474855))"
            ]
          },
          "metadata": {},
          "execution_count": 63
        }
      ],
      "source": [
        "mse, r2"
      ]
    },
    {
      "cell_type": "markdown",
      "metadata": {
        "id": "KySwyzsZXzER"
      },
      "source": [
        "### Sklearn also provides a Stacking API"
      ]
    },
    {
      "cell_type": "markdown",
      "metadata": {
        "id": "i0Xg09jOXzER"
      },
      "source": [
        "The sklearn Stacking API wraps the stacking process. Here, we're also using also k-fold cross validation instead of just sample splitting."
      ]
    },
    {
      "cell_type": "code",
      "execution_count": 64,
      "metadata": {
        "id": "hF7Xj1IRXzES"
      },
      "outputs": [],
      "source": [
        "from sklearn.ensemble import StackingRegressor\n",
        "\n",
        "stack = StackingRegressor(methods,\n",
        "                          final_estimator=RLasso(),\n",
        "                          cv=3,\n",
        "                          verbose=3)"
      ]
    },
    {
      "cell_type": "markdown",
      "metadata": {
        "id": "6RVgVg8XXzES"
      },
      "source": [
        "We will construct a stacked ensemble using only the training data for unbiased performance evaluation. The stacking regressor will partition the data in k-folds, based on the `cv` parameter. For each fold it will train each of the estimators in the `methods` parameter on all the data outside of the fold and then predict on the data in the fold. Then using all the predictions on all the data from each method, it will train a `final_estimator` predicting the true outcome using the out-of-fold predictions of each method as features. This will define how the estimators are being aggregated. In the end, all the base estimators are re-fitted on all the data and the final predictor will first predict based on each fitted based estimator and then aggregate based on the fitted `final_estimator`."
      ]
    },
    {
      "cell_type": "code",
      "execution_count": null,
      "metadata": {
        "id": "po6zui0bXzES"
      },
      "outputs": [],
      "source": [
        "stack.fit(Z.iloc[train_idx], y[train_idx])"
      ]
    },
    {
      "cell_type": "markdown",
      "metadata": {
        "id": "umQ40SpSXzES"
      },
      "source": [
        "We can see the weights placed on each estimator by accessing the final model"
      ]
    },
    {
      "cell_type": "code",
      "execution_count": null,
      "metadata": {
        "id": "8DOtieuPXzES"
      },
      "outputs": [],
      "source": [
        "pd.DataFrame({'weight': stack.final_estimator_.coef_}, index=[name for name, _ in methods])"
      ]
    },
    {
      "cell_type": "markdown",
      "metadata": {
        "id": "knIwZlwbXzES"
      },
      "source": [
        "Calculate out of sample performance metrics"
      ]
    },
    {
      "cell_type": "code",
      "execution_count": null,
      "metadata": {
        "id": "t6mZE3SjXzES"
      },
      "outputs": [],
      "source": [
        "mse, semse, r2 = metrics(Z.iloc[test_idx], y[test_idx], stack)"
      ]
    },
    {
      "cell_type": "markdown",
      "metadata": {
        "id": "ILYgz-LGXzES"
      },
      "source": [
        "We find that this stacked estimator achieved the best out of sample performance."
      ]
    },
    {
      "cell_type": "markdown",
      "metadata": {
        "id": "UEB4MPK7XzES"
      },
      "source": [
        "# FLAML AutoML Framework"
      ]
    },
    {
      "cell_type": "code",
      "execution_count": null,
      "metadata": {
        "id": "HaAsbKvVXzES"
      },
      "outputs": [],
      "source": [
        "!pip install flaml"
      ]
    },
    {
      "cell_type": "code",
      "execution_count": null,
      "metadata": {
        "id": "WamITPbbXzET"
      },
      "outputs": [],
      "source": [
        "from flaml import AutoML\n",
        "\n",
        "automl = make_pipeline(base, AutoML(task='regression', time_budget=60, early_stop=True,\n",
        "                                    eval_method='cv', n_splits=3, metric='r2',\n",
        "                                    verbose=3,))"
      ]
    },
    {
      "cell_type": "code",
      "execution_count": null,
      "metadata": {
        "id": "icvlA8NHXzET"
      },
      "outputs": [],
      "source": [
        "train_idx, test_idx = train_test_split(np.arange(len(y)), test_size=0.25, random_state=123)"
      ]
    },
    {
      "cell_type": "code",
      "execution_count": null,
      "metadata": {
        "id": "WMvkCNLjXzET"
      },
      "outputs": [],
      "source": [
        "automl.fit(Z.iloc[train_idx], y[train_idx])"
      ]
    },
    {
      "cell_type": "code",
      "execution_count": null,
      "metadata": {
        "id": "8NXhzJOQXzET"
      },
      "outputs": [],
      "source": [
        "mse, semse, r2 = metrics(Z.iloc[test_idx], y[test_idx], automl)"
      ]
    },
    {
      "cell_type": "markdown",
      "metadata": {
        "id": "Xvb4i37KXzET"
      },
      "source": [
        "We see that it best model chosen matches the performance of the stacked estimator we strived to achieve on our own without automl. Moreover, we can also do stacking within the automl framework"
      ]
    },
    {
      "cell_type": "code",
      "execution_count": null,
      "metadata": {
        "id": "z3J6dBahXzET"
      },
      "outputs": [],
      "source": [
        "automl = make_pipeline(base, AutoML(task='regression', time_budget=60, early_stop=True,\n",
        "                                    eval_method='cv', n_splits=3, metric='r2',\n",
        "                                    estimator_list=['lgbm', 'xgboost', 'xgb_limitdepth', 'rf', 'extra_tree'],\n",
        "                                    verbose=3,\n",
        "                                    ensemble={'passthrough': False,  # whether stacker will use raw X's or predictions\n",
        "                                              'final_estimator': RLasso()}))"
      ]
    },
    {
      "cell_type": "code",
      "execution_count": null,
      "metadata": {
        "id": "zvi8uC-MXzET"
      },
      "outputs": [],
      "source": [
        "train_idx, test_idx = train_test_split(np.arange(len(y)), test_size=0.25, random_state=123)"
      ]
    },
    {
      "cell_type": "code",
      "execution_count": null,
      "metadata": {
        "id": "cGS9hrGUXzET"
      },
      "outputs": [],
      "source": [
        "automl.fit(Z.iloc[train_idx], y[train_idx])"
      ]
    },
    {
      "cell_type": "code",
      "execution_count": null,
      "metadata": {
        "id": "TBSQubj4XzET"
      },
      "outputs": [],
      "source": [
        "mse, semse, r2 = metrics(Z.iloc[test_idx], y[test_idx], automl)"
      ]
    },
    {
      "cell_type": "code",
      "execution_count": null,
      "metadata": {
        "id": "8iljQqWyXzEU"
      },
      "outputs": [],
      "source": [
        "automl = make_pipeline(base, AutoML(task='regression', time_budget=60, early_stop=True,\n",
        "                                    eval_method='cv', n_splits=3, metric='r2',\n",
        "                                    estimator_list=['lgbm', 'xgboost', 'xgb_limitdepth', 'rf', 'extra_tree'],\n",
        "                                    verbose=3,\n",
        "                                    ensemble={'passthrough': True,  # whether stacker will use raw X's or predictions\n",
        "                                              'final_estimator': RLasso()}))"
      ]
    },
    {
      "cell_type": "code",
      "execution_count": null,
      "metadata": {
        "id": "68Ti3XnPXzEY"
      },
      "outputs": [],
      "source": [
        "train_idx, test_idx = train_test_split(np.arange(len(y)), test_size=0.25, random_state=123)"
      ]
    },
    {
      "cell_type": "code",
      "execution_count": null,
      "metadata": {
        "id": "wgju95y0XzEZ"
      },
      "outputs": [],
      "source": [
        "automl.fit(Z.iloc[train_idx], y[train_idx])"
      ]
    },
    {
      "cell_type": "code",
      "execution_count": null,
      "metadata": {
        "id": "wtjilTiQXzEZ"
      },
      "outputs": [],
      "source": [
        "mse, semse, r2 = metrics(Z.iloc[test_idx], y[test_idx], automl)"
      ]
    }
  ],
  "metadata": {
    "colab": {
      "name": "PM2A_prediction",
      "provenance": []
    },
    "kernelspec": {
      "display_name": "Python 3 (ipykernel)",
      "language": "python",
      "name": "python3"
    },
    "language_info": {
      "codemirror_mode": {
        "name": "ipython",
        "version": 3
      },
      "file_extension": ".py",
      "mimetype": "text/x-python",
      "name": "python",
      "nbconvert_exporter": "python",
      "pygments_lexer": "ipython3",
      "version": "3.12.4"
    }
  },
  "nbformat": 4,
  "nbformat_minor": 0
}